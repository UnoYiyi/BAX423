{
  "nbformat": 4,
  "nbformat_minor": 0,
  "metadata": {
    "colab": {
      "name": "443 Homework 2.ipynb",
      "version": "0.3.2",
      "provenance": [],
      "collapsed_sections": [
        "vjHL8qwek32J"
      ]
    },
    "kernelspec": {
      "display_name": "Python 3",
      "language": "python",
      "name": "python3"
    }
  },
  "cells": [
    {
      "cell_type": "markdown",
      "metadata": {
        "id": "view-in-github",
        "colab_type": "text"
      },
      "source": [
        "[View in Colaboratory](https://colab.research.google.com/github/UnoYiyi/BAX423/blob/master/443_Homework_2.ipynb)"
      ]
    },
    {
      "metadata": {
        "id": "7Uqd_wmwk3zn",
        "colab_type": "text"
      },
      "cell_type": "markdown",
      "source": [
        "## Part A: Portfolio Optimization based on the Full Data Set"
      ]
    },
    {
      "metadata": {
        "id": "tRF7Zd6Tk3zp",
        "colab_type": "text"
      },
      "cell_type": "markdown",
      "source": [
        "### 1. Prepare the dataset\n",
        "\n",
        "#### A. Based on the dataset, compute the rate of returns for each stock, i.e.,\n",
        "\n",
        "$$r_{it} = \\frac{I_{i,t} - I_{i,t-1}}{I_{i,t-1}}$$\n",
        "\n",
        "where $I_{i,t}$ is the raw data from stock i at time t.\n"
      ]
    },
    {
      "metadata": {
        "id": "y6RU1UKzlPRk",
        "colab_type": "code",
        "colab": {
          "base_uri": "https://localhost:8080/",
          "height": 224
        },
        "outputId": "7dcb7c85-b690-428d-acc5-42fbdabc38b7"
      },
      "cell_type": "code",
      "source": [
        "!pip install cvxpy==0.4.11"
      ],
      "execution_count": 69,
      "outputs": [
        {
          "output_type": "stream",
          "text": [
            "Requirement already satisfied: cvxpy==0.4.11 in /usr/local/lib/python3.6/dist-packages (0.4.11)\n",
            "Requirement already satisfied: multiprocess in /usr/local/lib/python3.6/dist-packages (from cvxpy==0.4.11) (0.70.5)\n",
            "Requirement already satisfied: numpy>=1.9 in /usr/local/lib/python3.6/dist-packages (from cvxpy==0.4.11) (1.14.3)\n",
            "Requirement already satisfied: six in /usr/local/lib/python3.6/dist-packages (from cvxpy==0.4.11) (1.11.0)\n",
            "Requirement already satisfied: toolz in /usr/local/lib/python3.6/dist-packages (from cvxpy==0.4.11) (0.9.0)\n",
            "Requirement already satisfied: scs>=1.1.3 in /usr/local/lib/python3.6/dist-packages (from cvxpy==0.4.11) (2.0.2)\n",
            "Requirement already satisfied: CVXcanon>=0.0.22 in /usr/local/lib/python3.6/dist-packages (from cvxpy==0.4.11) (0.1.1)\n",
            "Requirement already satisfied: scipy>=0.15 in /usr/local/lib/python3.6/dist-packages (from cvxpy==0.4.11) (0.19.1)\n",
            "Requirement already satisfied: fastcache in /usr/local/lib/python3.6/dist-packages (from cvxpy==0.4.11) (1.0.2)\n",
            "Requirement already satisfied: ecos>=2 in /usr/local/lib/python3.6/dist-packages (from cvxpy==0.4.11) (2.0.5)\n",
            "Requirement already satisfied: dill>=0.2.6 in /usr/local/lib/python3.6/dist-packages (from multiprocess->cvxpy==0.4.11) (0.2.7.1)\n"
          ],
          "name": "stdout"
        }
      ]
    },
    {
      "metadata": {
        "id": "XYM3xIHgk3zp",
        "colab_type": "code",
        "colab": {}
      },
      "cell_type": "code",
      "source": [
        "# import library\n",
        "import numpy as np\n",
        "import math\n",
        "import cvxpy as cvx\n",
        "from numpy import matrix \n",
        "from cvxpy import *\n",
        "import matplotlib.pyplot as plt\n",
        "import pandas as pd\n",
        "from scipy import stats\n",
        "import scipy"
      ],
      "execution_count": 0,
      "outputs": []
    },
    {
      "metadata": {
        "id": "n_dxFloKnlgH",
        "colab_type": "code",
        "colab": {
          "base_uri": "https://localhost:8080/",
          "height": 34
        },
        "outputId": "b2c65295-4514-4c86-a3bd-aa0b06716ee6"
      },
      "cell_type": "code",
      "source": [
        "!pip install xlrd"
      ],
      "execution_count": 71,
      "outputs": [
        {
          "output_type": "stream",
          "text": [
            "Requirement already satisfied: xlrd in /usr/local/lib/python3.6/dist-packages (1.1.0)\r\n"
          ],
          "name": "stdout"
        }
      ]
    },
    {
      "metadata": {
        "id": "mfRqi09Nk3zt",
        "colab_type": "code",
        "colab": {
          "resources": {
            "http://localhost:8080/nbextensions/google.colab/files.js": {
              "data": "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",
              "ok": true,
              "headers": [
                [
                  "content-type",
                  "application/javascript"
                ]
              ],
              "status": 200,
              "status_text": ""
            }
          },
          "base_uri": "https://localhost:8080/",
          "height": 222
        },
        "outputId": "cedc105c-1ea4-4f22-a9e2-b035e002f22e"
      },
      "cell_type": "code",
      "source": [
        "# import dataset\n",
        "from google.colab import files\n",
        "files.upload()\n",
        "df = pd.read_excel(\"./datahomework2.xls\")\n",
        "df.head()"
      ],
      "execution_count": 72,
      "outputs": [
        {
          "output_type": "display_data",
          "data": {
            "text/html": [
              "\n",
              "     <input type=\"file\" id=\"files-627170e2-67bd-46d2-89d0-dec1b535c238\" name=\"files[]\" multiple disabled />\n",
              "     <output id=\"result-627170e2-67bd-46d2-89d0-dec1b535c238\">\n",
              "      Upload widget is only available when the cell has been executed in the\n",
              "      current browser session. Please rerun this cell to enable.\n",
              "      </output>\n",
              "      <script src=\"/nbextensions/google.colab/files.js\"></script> "
            ],
            "text/plain": [
              "<IPython.core.display.HTML object>"
            ]
          },
          "metadata": {
            "tags": []
          }
        },
        {
          "output_type": "execute_result",
          "data": {
            "text/html": [
              "<div>\n",
              "<style scoped>\n",
              "    .dataframe tbody tr th:only-of-type {\n",
              "        vertical-align: middle;\n",
              "    }\n",
              "\n",
              "    .dataframe tbody tr th {\n",
              "        vertical-align: top;\n",
              "    }\n",
              "\n",
              "    .dataframe thead th {\n",
              "        text-align: right;\n",
              "    }\n",
              "</style>\n",
              "<table border=\"1\" class=\"dataframe\">\n",
              "  <thead>\n",
              "    <tr style=\"text-align: right;\">\n",
              "      <th></th>\n",
              "      <th>Amazon</th>\n",
              "      <th>Apple</th>\n",
              "      <th>Ebay</th>\n",
              "      <th>Facebook</th>\n",
              "      <th>Google</th>\n",
              "      <th>Twitter</th>\n",
              "    </tr>\n",
              "  </thead>\n",
              "  <tbody>\n",
              "    <tr>\n",
              "      <th>0</th>\n",
              "      <td>252.585</td>\n",
              "      <td>106.250000</td>\n",
              "      <td>23.457600</td>\n",
              "      <td>77.190002</td>\n",
              "      <td>519.500000</td>\n",
              "      <td>36.380001</td>\n",
              "    </tr>\n",
              "    <tr>\n",
              "      <th>1</th>\n",
              "      <td>245.488</td>\n",
              "      <td>106.260002</td>\n",
              "      <td>23.156700</td>\n",
              "      <td>76.150002</td>\n",
              "      <td>506.600006</td>\n",
              "      <td>37.279999</td>\n",
              "    </tr>\n",
              "    <tr>\n",
              "      <th>2</th>\n",
              "      <td>253.816</td>\n",
              "      <td>107.750000</td>\n",
              "      <td>23.116699</td>\n",
              "      <td>76.150002</td>\n",
              "      <td>505.200012</td>\n",
              "      <td>39.090000</td>\n",
              "    </tr>\n",
              "    <tr>\n",
              "      <th>3</th>\n",
              "      <td>256.030</td>\n",
              "      <td>111.889999</td>\n",
              "      <td>23.741699</td>\n",
              "      <td>78.175003</td>\n",
              "      <td>506.899994</td>\n",
              "      <td>40.169998</td>\n",
              "    </tr>\n",
              "    <tr>\n",
              "      <th>4</th>\n",
              "      <td>253.299</td>\n",
              "      <td>112.010002</td>\n",
              "      <td>23.413401</td>\n",
              "      <td>77.739998</td>\n",
              "      <td>500.700012</td>\n",
              "      <td>39.369999</td>\n",
              "    </tr>\n",
              "  </tbody>\n",
              "</table>\n",
              "</div>"
            ],
            "text/plain": [
              "    Amazon       Apple       Ebay   Facebook      Google    Twitter\n",
              "0  252.585  106.250000  23.457600  77.190002  519.500000  36.380001\n",
              "1  245.488  106.260002  23.156700  76.150002  506.600006  37.279999\n",
              "2  253.816  107.750000  23.116699  76.150002  505.200012  39.090000\n",
              "3  256.030  111.889999  23.741699  78.175003  506.899994  40.169998\n",
              "4  253.299  112.010002  23.413401  77.739998  500.700012  39.369999"
            ]
          },
          "metadata": {
            "tags": []
          },
          "execution_count": 72
        }
      ]
    },
    {
      "metadata": {
        "id": "XTjA0SWCk3zy",
        "colab_type": "code",
        "colab": {
          "base_uri": "https://localhost:8080/",
          "height": 204
        },
        "outputId": "f5068400-d575-456f-a217-e671a8019dd5"
      },
      "cell_type": "code",
      "source": [
        "# calculate the rate of returns for each stock\n",
        "rr =  df.pct_change()\n",
        "rr.head()"
      ],
      "execution_count": 73,
      "outputs": [
        {
          "output_type": "execute_result",
          "data": {
            "text/html": [
              "<div>\n",
              "<style scoped>\n",
              "    .dataframe tbody tr th:only-of-type {\n",
              "        vertical-align: middle;\n",
              "    }\n",
              "\n",
              "    .dataframe tbody tr th {\n",
              "        vertical-align: top;\n",
              "    }\n",
              "\n",
              "    .dataframe thead th {\n",
              "        text-align: right;\n",
              "    }\n",
              "</style>\n",
              "<table border=\"1\" class=\"dataframe\">\n",
              "  <thead>\n",
              "    <tr style=\"text-align: right;\">\n",
              "      <th></th>\n",
              "      <th>Amazon</th>\n",
              "      <th>Apple</th>\n",
              "      <th>Ebay</th>\n",
              "      <th>Facebook</th>\n",
              "      <th>Google</th>\n",
              "      <th>Twitter</th>\n",
              "    </tr>\n",
              "  </thead>\n",
              "  <tbody>\n",
              "    <tr>\n",
              "      <th>0</th>\n",
              "      <td>NaN</td>\n",
              "      <td>NaN</td>\n",
              "      <td>NaN</td>\n",
              "      <td>NaN</td>\n",
              "      <td>NaN</td>\n",
              "      <td>NaN</td>\n",
              "    </tr>\n",
              "    <tr>\n",
              "      <th>1</th>\n",
              "      <td>-0.028097</td>\n",
              "      <td>0.000094</td>\n",
              "      <td>-0.012827</td>\n",
              "      <td>-0.013473</td>\n",
              "      <td>-0.024832</td>\n",
              "      <td>0.024739</td>\n",
              "    </tr>\n",
              "    <tr>\n",
              "      <th>2</th>\n",
              "      <td>0.033924</td>\n",
              "      <td>0.014022</td>\n",
              "      <td>-0.001727</td>\n",
              "      <td>0.000000</td>\n",
              "      <td>-0.002764</td>\n",
              "      <td>0.048552</td>\n",
              "    </tr>\n",
              "    <tr>\n",
              "      <th>3</th>\n",
              "      <td>0.008723</td>\n",
              "      <td>0.038422</td>\n",
              "      <td>0.027037</td>\n",
              "      <td>0.026592</td>\n",
              "      <td>0.003365</td>\n",
              "      <td>0.027628</td>\n",
              "    </tr>\n",
              "    <tr>\n",
              "      <th>4</th>\n",
              "      <td>-0.010667</td>\n",
              "      <td>0.001073</td>\n",
              "      <td>-0.013828</td>\n",
              "      <td>-0.005565</td>\n",
              "      <td>-0.012231</td>\n",
              "      <td>-0.019915</td>\n",
              "    </tr>\n",
              "  </tbody>\n",
              "</table>\n",
              "</div>"
            ],
            "text/plain": [
              "     Amazon     Apple      Ebay  Facebook    Google   Twitter\n",
              "0       NaN       NaN       NaN       NaN       NaN       NaN\n",
              "1 -0.028097  0.000094 -0.012827 -0.013473 -0.024832  0.024739\n",
              "2  0.033924  0.014022 -0.001727  0.000000 -0.002764  0.048552\n",
              "3  0.008723  0.038422  0.027037  0.026592  0.003365  0.027628\n",
              "4 -0.010667  0.001073 -0.013828 -0.005565 -0.012231 -0.019915"
            ]
          },
          "metadata": {
            "tags": []
          },
          "execution_count": 73
        }
      ]
    },
    {
      "metadata": {
        "id": "5BE5jaDzk3z1",
        "colab_type": "text"
      },
      "cell_type": "markdown",
      "source": [
        "\n",
        "\n",
        "\n",
        "#### B. Based on the data set, compute the average returns that will be used for the optimization, i.e.,\n",
        "\n",
        "$$\\mu_{i} = \\displaystyle\\sum_{t=1}^T (1+r_{it})^\\frac{1}{T} - 1 $$\n",
        "Hint: the term $\\displaystyle\\sum_{t=1}^T (1+r_{it})^\\frac{1}{T}$ is a geometric mean"
      ]
    },
    {
      "metadata": {
        "id": "7dhsdQGFk3z2",
        "colab_type": "code",
        "colab": {
          "base_uri": "https://localhost:8080/",
          "height": 204
        },
        "outputId": "2f4b28d2-9def-4752-b321-30b7fa6c8127"
      },
      "cell_type": "code",
      "source": [
        "# remove the NAN value and add 1 to all values \n",
        "rr1 = rr[1:] # rr1 is average returns without NANs\n",
        "rr2 = rr1 + 1 #rr2 is average returns +1\n",
        "rr2.head()"
      ],
      "execution_count": 74,
      "outputs": [
        {
          "output_type": "execute_result",
          "data": {
            "text/html": [
              "<div>\n",
              "<style scoped>\n",
              "    .dataframe tbody tr th:only-of-type {\n",
              "        vertical-align: middle;\n",
              "    }\n",
              "\n",
              "    .dataframe tbody tr th {\n",
              "        vertical-align: top;\n",
              "    }\n",
              "\n",
              "    .dataframe thead th {\n",
              "        text-align: right;\n",
              "    }\n",
              "</style>\n",
              "<table border=\"1\" class=\"dataframe\">\n",
              "  <thead>\n",
              "    <tr style=\"text-align: right;\">\n",
              "      <th></th>\n",
              "      <th>Amazon</th>\n",
              "      <th>Apple</th>\n",
              "      <th>Ebay</th>\n",
              "      <th>Facebook</th>\n",
              "      <th>Google</th>\n",
              "      <th>Twitter</th>\n",
              "    </tr>\n",
              "  </thead>\n",
              "  <tbody>\n",
              "    <tr>\n",
              "      <th>1</th>\n",
              "      <td>0.971903</td>\n",
              "      <td>1.000094</td>\n",
              "      <td>0.987173</td>\n",
              "      <td>0.986527</td>\n",
              "      <td>0.975168</td>\n",
              "      <td>1.024739</td>\n",
              "    </tr>\n",
              "    <tr>\n",
              "      <th>2</th>\n",
              "      <td>1.033924</td>\n",
              "      <td>1.014022</td>\n",
              "      <td>0.998273</td>\n",
              "      <td>1.000000</td>\n",
              "      <td>0.997236</td>\n",
              "      <td>1.048552</td>\n",
              "    </tr>\n",
              "    <tr>\n",
              "      <th>3</th>\n",
              "      <td>1.008723</td>\n",
              "      <td>1.038422</td>\n",
              "      <td>1.027037</td>\n",
              "      <td>1.026592</td>\n",
              "      <td>1.003365</td>\n",
              "      <td>1.027628</td>\n",
              "    </tr>\n",
              "    <tr>\n",
              "      <th>4</th>\n",
              "      <td>0.989333</td>\n",
              "      <td>1.001073</td>\n",
              "      <td>0.986172</td>\n",
              "      <td>0.994435</td>\n",
              "      <td>0.987769</td>\n",
              "      <td>0.980085</td>\n",
              "    </tr>\n",
              "    <tr>\n",
              "      <th>5</th>\n",
              "      <td>0.971540</td>\n",
              "      <td>0.975359</td>\n",
              "      <td>0.992274</td>\n",
              "      <td>0.986879</td>\n",
              "      <td>0.992810</td>\n",
              "      <td>1.007112</td>\n",
              "    </tr>\n",
              "  </tbody>\n",
              "</table>\n",
              "</div>"
            ],
            "text/plain": [
              "     Amazon     Apple      Ebay  Facebook    Google   Twitter\n",
              "1  0.971903  1.000094  0.987173  0.986527  0.975168  1.024739\n",
              "2  1.033924  1.014022  0.998273  1.000000  0.997236  1.048552\n",
              "3  1.008723  1.038422  1.027037  1.026592  1.003365  1.027628\n",
              "4  0.989333  1.001073  0.986172  0.994435  0.987769  0.980085\n",
              "5  0.971540  0.975359  0.992274  0.986879  0.992810  1.007112"
            ]
          },
          "metadata": {
            "tags": []
          },
          "execution_count": 74
        }
      ]
    },
    {
      "metadata": {
        "id": "FUsIXOVPk3z4",
        "colab_type": "code",
        "colab": {
          "base_uri": "https://localhost:8080/",
          "height": 51
        },
        "outputId": "3fe4cc03-82e4-41a7-9f4c-5e2f6d2fa3fa"
      },
      "cell_type": "code",
      "source": [
        "# calculate the average returns using gmean\n",
        "mu = scipy.stats.gmean(rr2) -1\n",
        "mu"
      ],
      "execution_count": 75,
      "outputs": [
        {
          "output_type": "execute_result",
          "data": {
            "text/plain": [
              "array([ 1.98778605e-03,  6.25712685e-04,  7.54726158e-04,  1.08819147e-03,\n",
              "        9.73603071e-04, -2.78636077e-05])"
            ]
          },
          "metadata": {
            "tags": []
          },
          "execution_count": 75
        }
      ]
    },
    {
      "metadata": {
        "id": "PDRp6YOBDbtY",
        "colab_type": "code",
        "colab": {
          "base_uri": "https://localhost:8080/",
          "height": 51
        },
        "outputId": "4220687a-7cb1-4192-cf59-3ed073da1bba"
      },
      "cell_type": "code",
      "source": [
        "var = rr2.var(axis = 0)\n",
        "var = np.array(var)\n",
        "var"
      ],
      "execution_count": 206,
      "outputs": [
        {
          "output_type": "execute_result",
          "data": {
            "text/plain": [
              "array([0.0004072 , 0.0002108 , 0.00029204, 0.00024236, 0.00020284,\n",
              "       0.00107123])"
            ]
          },
          "metadata": {
            "tags": []
          },
          "execution_count": 206
        }
      ]
    },
    {
      "metadata": {
        "id": "vg1Ltq0ek3z7",
        "colab_type": "text"
      },
      "cell_type": "markdown",
      "source": [
        "#### C. Based on the data set, compute the variance-covariance matrix of the stock returns, i.e.,\n",
        "\n",
        "$$CoVar(r_{i},r_{j}) = \\frac{1}{T}\\displaystyle\\sum_{t=1}^{T} (r_{it}-\\bar{r_{it}})(r_{jt} -\\bar{r_{jt}})-1$$\n",
        "\n",
        "Hint: the term $\\displaystyle\\sum_{t=1}^{T} (r_{it}-\\bar{r_{it}})(r_{jt} -\\bar{r_{jt}})$ is a geometric mean"
      ]
    },
    {
      "metadata": {
        "id": "Wuo77CtBk3z8",
        "colab_type": "code",
        "colab": {
          "base_uri": "https://localhost:8080/",
          "height": 221
        },
        "outputId": "76fd06d2-bb2c-4bd0-97ef-67f935ede9dc"
      },
      "cell_type": "code",
      "source": [
        "# calculate the variance-covariance matrix of the stock returns\n",
        "Cov = np.cov(rr1, rowvar =False) \n",
        "Cov\n",
        "## If rowvar is True (default), then each row represents a variable, \n",
        "## with observations in the columns. Otherwise, the relationship is \n",
        "## transposed: each column represents a variable, while the rows \n",
        "## contain observations. "
      ],
      "execution_count": 76,
      "outputs": [
        {
          "output_type": "execute_result",
          "data": {
            "text/plain": [
              "array([[ 4.07197383e-04,  4.60871516e-06,  1.22772826e-05,\n",
              "        -1.05667569e-05,  6.56723220e-06, -9.50143600e-05],\n",
              "       [ 4.60871516e-06,  2.10803738e-04,  5.99369392e-05,\n",
              "         6.94486102e-05,  6.00972703e-05,  4.03675884e-05],\n",
              "       [ 1.22772826e-05,  5.99369392e-05,  2.92036867e-04,\n",
              "         2.71083410e-05,  5.45848998e-05,  2.43589545e-05],\n",
              "       [-1.05667569e-05,  6.94486102e-05,  2.71083410e-05,\n",
              "         2.42364043e-04,  9.89613223e-05,  2.19275123e-05],\n",
              "       [ 6.56723220e-06,  6.00972703e-05,  5.45848998e-05,\n",
              "         9.89613223e-05,  2.02842223e-04,  9.65658924e-06],\n",
              "       [-9.50143600e-05,  4.03675884e-05,  2.43589545e-05,\n",
              "         2.19275123e-05,  9.65658924e-06,  1.07122641e-03]])"
            ]
          },
          "metadata": {
            "tags": []
          },
          "execution_count": 76
        }
      ]
    },
    {
      "metadata": {
        "id": "x8y6xtxtk3z-",
        "colab_type": "text"
      },
      "cell_type": "markdown",
      "source": [
        "#### D. Provide the vector $\\mu$ and the variance-covariance matrix $\\Sigma$ for the 6 assets considered"
      ]
    },
    {
      "metadata": {
        "id": "paeyjsT-k3z_",
        "colab_type": "code",
        "colab": {
          "base_uri": "https://localhost:8080/",
          "height": 51
        },
        "outputId": "c5c30c11-10ff-41e8-9bb7-b39ce94eb420"
      },
      "cell_type": "code",
      "source": [
        "# the vector mu \n",
        "mu"
      ],
      "execution_count": 77,
      "outputs": [
        {
          "output_type": "execute_result",
          "data": {
            "text/plain": [
              "array([ 1.98778605e-03,  6.25712685e-04,  7.54726158e-04,  1.08819147e-03,\n",
              "        9.73603071e-04, -2.78636077e-05])"
            ]
          },
          "metadata": {
            "tags": []
          },
          "execution_count": 77
        }
      ]
    },
    {
      "metadata": {
        "id": "J7ryfJzXk30C",
        "colab_type": "code",
        "colab": {}
      },
      "cell_type": "code",
      "source": [
        "mu_matrix = matrix(mu)"
      ],
      "execution_count": 0,
      "outputs": []
    },
    {
      "metadata": {
        "id": "imAuHuUck30E",
        "colab_type": "code",
        "colab": {
          "base_uri": "https://localhost:8080/",
          "height": 221
        },
        "outputId": "4022ccac-5a11-424f-c566-68b3bb0db47a"
      },
      "cell_type": "code",
      "source": [
        "# the variance-covariance matrix Sigma\n",
        "Cov"
      ],
      "execution_count": 79,
      "outputs": [
        {
          "output_type": "execute_result",
          "data": {
            "text/plain": [
              "array([[ 4.07197383e-04,  4.60871516e-06,  1.22772826e-05,\n",
              "        -1.05667569e-05,  6.56723220e-06, -9.50143600e-05],\n",
              "       [ 4.60871516e-06,  2.10803738e-04,  5.99369392e-05,\n",
              "         6.94486102e-05,  6.00972703e-05,  4.03675884e-05],\n",
              "       [ 1.22772826e-05,  5.99369392e-05,  2.92036867e-04,\n",
              "         2.71083410e-05,  5.45848998e-05,  2.43589545e-05],\n",
              "       [-1.05667569e-05,  6.94486102e-05,  2.71083410e-05,\n",
              "         2.42364043e-04,  9.89613223e-05,  2.19275123e-05],\n",
              "       [ 6.56723220e-06,  6.00972703e-05,  5.45848998e-05,\n",
              "         9.89613223e-05,  2.02842223e-04,  9.65658924e-06],\n",
              "       [-9.50143600e-05,  4.03675884e-05,  2.43589545e-05,\n",
              "         2.19275123e-05,  9.65658924e-06,  1.07122641e-03]])"
            ]
          },
          "metadata": {
            "tags": []
          },
          "execution_count": 79
        }
      ]
    },
    {
      "metadata": {
        "id": "5aBoA0F-k30G",
        "colab_type": "text"
      },
      "cell_type": "markdown",
      "source": [
        "### 2. Portfolio Optimization: Minimizing Risk\n",
        "\n",
        "What is the allocation x = {x1,x2,x3,x4,x5,x6} that solve the following problem\n",
        "\n",
        "$$Minimize\\frac{1}{2}x^{T}\\sum x$$\n",
        "\n",
        "Subject to\n",
        "\n",
        "$$\\mu^{T}x \\geq R \\\\\n",
        "\\displaystyle \\sum_{i=1}^{6} x_{i} = 1 \\\\\n",
        "x \\geq 0$$\n",
        "\n",
        "where R is the annual return that the investor wants to achieve, with R = 0.07"
      ]
    },
    {
      "metadata": {
        "id": "411AJYFek30H",
        "colab_type": "code",
        "colab": {
          "base_uri": "https://localhost:8080/",
          "height": 119
        },
        "outputId": "22f262e4-08d6-43e9-ed5c-ef0dbaba939b"
      },
      "cell_type": "code",
      "source": [
        "R=0.07/252 ##there are 252 trading days in a year\n",
        "\n",
        "x=cvx.Variable(6)\n",
        "\n",
        "# Solution\n",
        "# prob = cvs.Problem(objective, C)\n",
        "# result = prob.solve()\n",
        "# Prob 1\n",
        "risk=0.5 * quad_form(x, Cov)\n",
        "rr=sum_entries(mu*x)\n",
        "prob1 = Problem(Minimize(risk ), \n",
        "               [rr>=R,sum_entries(x) == 1, \n",
        "                x >= 0])\n",
        "prob1.solve()\n",
        "print(x.value)\n",
        "x_min = [y[0] for y in x.value.round(3)]"
      ],
      "execution_count": 119,
      "outputs": [
        {
          "output_type": "stream",
          "text": [
            "[[0.2042415 ]\n",
            " [0.19551309]\n",
            " [0.16170077]\n",
            " [0.17376282]\n",
            " [0.18986907]\n",
            " [0.07491276]]\n"
          ],
          "name": "stdout"
        }
      ]
    },
    {
      "metadata": {
        "id": "5TPDSgUUk30K",
        "colab_type": "text"
      },
      "cell_type": "markdown",
      "source": [
        "### 3. Portfolio Optimization: Maximizing Returns (or Utility)\n",
        "\n",
        "Another approach to portfolio optimization is to optimize the expected returns that the portfolio would give while penalizing for volatility (variance). Specifically, what is the allocation 𝑥 = {𝑥1, 𝑥2, 𝑥3, 𝑥4, 𝑥5, 𝑥6} that solve the following optimization problem\n",
        "\n",
        "$$ Maximize\\mu^{T}x - \\gamma \\sqrt{(x^{T}\\Sigma x)}$$\n",
        "\n",
        "Subject to \n",
        "$$\\sum_{i=1}^{6}x_{i} = 1 \\\\\n",
        "x \\geq 0$$\n",
        "\n",
        "where $\\gamma$ is the risk aversion coefficient of the investor. Report the optimal allocations for $\\gamma$ = 0.1, $\\gamma$ = 0.15, $\\gamma$ = 0.2, as well as the value of the objective function "
      ]
    },
    {
      "metadata": {
        "id": "oqwo03QUk30L",
        "colab_type": "text"
      },
      "cell_type": "markdown",
      "source": [
        "#### 3.1 gamma = 0.1"
      ]
    },
    {
      "metadata": {
        "id": "MuYLrfmAk30L",
        "colab_type": "code",
        "colab": {}
      },
      "cell_type": "code",
      "source": [
        "import numpy as np\n",
        "from scipy.optimize import minimize"
      ],
      "execution_count": 0,
      "outputs": []
    },
    {
      "metadata": {
        "id": "5j0zed4ek30O",
        "colab_type": "code",
        "colab": {}
      },
      "cell_type": "code",
      "source": [
        "##define constraint\n",
        "## first step - define bounds\n",
        "bounds = ([0,None],[0,None],[0,None],[0,None],[0,None],[0,None])"
      ],
      "execution_count": 0,
      "outputs": []
    },
    {
      "metadata": {
        "id": "eAVzCayfk30P",
        "colab_type": "code",
        "colab": {}
      },
      "cell_type": "code",
      "source": [
        "## second step - the equality constraint\n",
        "def con(x):\n",
        "    return x[0]+x[1]+x[2]+x[3]+x[4]+x[5]-1\n",
        "cons = {'type':'eq',\n",
        "        'fun':con}"
      ],
      "execution_count": 0,
      "outputs": []
    },
    {
      "metadata": {
        "id": "02ONgiD-k30R",
        "colab_type": "code",
        "colab": {}
      },
      "cell_type": "code",
      "source": [
        "gamma1 = 0.1\n",
        "def returnfunc(x):\n",
        "    return -(x.T * mu_matrix.T-gamma1*np.sqrt(np.dot(np.dot(x.T,Cov),x)))"
      ],
      "execution_count": 0,
      "outputs": []
    },
    {
      "metadata": {
        "id": "j7FFaS1Qk30U",
        "colab_type": "code",
        "colab": {
          "base_uri": "https://localhost:8080/",
          "height": 51
        },
        "outputId": "d7fa5392-a4ab-4de4-966f-fc2dcce4c002"
      },
      "cell_type": "code",
      "source": [
        "x0 = np.matrix('0 0 0 0 0 0 ')\n",
        "print(x0)\n",
        "x0.shape"
      ],
      "execution_count": 85,
      "outputs": [
        {
          "output_type": "stream",
          "text": [
            "[[0 0 0 0 0 0]]\n"
          ],
          "name": "stdout"
        },
        {
          "output_type": "execute_result",
          "data": {
            "text/plain": [
              "(1, 6)"
            ]
          },
          "metadata": {
            "tags": []
          },
          "execution_count": 85
        }
      ]
    },
    {
      "metadata": {
        "id": "b6w7p3Syk30X",
        "colab_type": "code",
        "colab": {
          "base_uri": "https://localhost:8080/",
          "height": 34
        },
        "outputId": "367379fb-baca-4746-9c19-056ee3677eed"
      },
      "cell_type": "code",
      "source": [
        "mu_matrix.T.shape"
      ],
      "execution_count": 86,
      "outputs": [
        {
          "output_type": "execute_result",
          "data": {
            "text/plain": [
              "(6, 1)"
            ]
          },
          "metadata": {
            "tags": []
          },
          "execution_count": 86
        }
      ]
    },
    {
      "metadata": {
        "id": "59cpaQMGk30a",
        "colab_type": "code",
        "colab": {}
      },
      "cell_type": "code",
      "source": [
        "res1 = scipy.optimize.minimize(\n",
        "    returnfunc,\n",
        "    x0,\n",
        "    constraints=(\n",
        "        {'type':'eq','fun':lambda x:x[0]+x[1]+x[2]+x[3]+x[4]+x[5]-1}\n",
        "    ),\n",
        "    bounds=((0,None),(0,None),(0,None),(0,None),(0,None),(0,None)),\n",
        ")"
      ],
      "execution_count": 0,
      "outputs": []
    },
    {
      "metadata": {
        "id": "8lbFpKjtk30b",
        "colab_type": "code",
        "colab": {
          "base_uri": "https://localhost:8080/",
          "height": 51
        },
        "outputId": "0900bde6-0393-4181-922e-4f12a7327d54"
      },
      "cell_type": "code",
      "source": [
        "res1.x"
      ],
      "execution_count": 133,
      "outputs": [
        {
          "output_type": "execute_result",
          "data": {
            "text/plain": [
              "array([0.2967567 , 0.15516683, 0.16262145, 0.19664587, 0.18880915,\n",
              "       0.        ])"
            ]
          },
          "metadata": {
            "tags": []
          },
          "execution_count": 133
        }
      ]
    },
    {
      "metadata": {
        "id": "ZY86XKbVI6ip",
        "colab_type": "code",
        "colab": {
          "base_uri": "https://localhost:8080/",
          "height": 34
        },
        "outputId": "50d34401-2b31-4a04-a640-0c6258a50668"
      },
      "cell_type": "code",
      "source": [
        "res1.fun"
      ],
      "execution_count": 217,
      "outputs": [
        {
          "output_type": "execute_result",
          "data": {
            "text/plain": [
              "-0.0002609951802955157"
            ]
          },
          "metadata": {
            "tags": []
          },
          "execution_count": 217
        }
      ]
    },
    {
      "metadata": {
        "id": "_fKgCVHQk30e",
        "colab_type": "text"
      },
      "cell_type": "markdown",
      "source": [
        "#### 3.2 gamma = 0.15"
      ]
    },
    {
      "metadata": {
        "id": "5CtrxXprk30e",
        "colab_type": "code",
        "colab": {}
      },
      "cell_type": "code",
      "source": [
        "gamma2 = 0.15\n",
        "def returnfunc(x):\n",
        "    return -(x.T * mu_matrix.T-gamma2*np.sqrt(np.dot(np.dot(x.T,Cov),x)))"
      ],
      "execution_count": 0,
      "outputs": []
    },
    {
      "metadata": {
        "id": "qdb2wK9Lk30f",
        "colab_type": "code",
        "colab": {
          "base_uri": "https://localhost:8080/",
          "height": 34
        },
        "outputId": "689d06bf-63f5-4720-88cb-2d41cb216f47"
      },
      "cell_type": "code",
      "source": [
        "x0 = np.matrix('0 0 0 0 0 0 ')\n",
        "print(x0)"
      ],
      "execution_count": 90,
      "outputs": [
        {
          "output_type": "stream",
          "text": [
            "[[0 0 0 0 0 0]]\n"
          ],
          "name": "stdout"
        }
      ]
    },
    {
      "metadata": {
        "id": "2BMbdiRyk30i",
        "colab_type": "code",
        "colab": {}
      },
      "cell_type": "code",
      "source": [
        "res2 = scipy.optimize.minimize(\n",
        "    returnfunc,\n",
        "    x0,\n",
        "    constraints=(\n",
        "        {'type':'eq','fun':lambda x:x[0]+x[1]+x[2]+x[3]+x[4]+x[5]-1}\n",
        "    ),\n",
        "    bounds=((0,None),(0,None),(0,None),(0,None),(0,None),(0,None)),\n",
        ")"
      ],
      "execution_count": 0,
      "outputs": []
    },
    {
      "metadata": {
        "id": "4itURWCOk30k",
        "colab_type": "code",
        "colab": {
          "base_uri": "https://localhost:8080/",
          "height": 51
        },
        "outputId": "69bffbf6-0eb6-456d-9dcf-8e21bf80ad60"
      },
      "cell_type": "code",
      "source": [
        "res2.x"
      ],
      "execution_count": 92,
      "outputs": [
        {
          "output_type": "execute_result",
          "data": {
            "text/plain": [
              "array([0.28012906, 0.16293947, 0.16697493, 0.19504473, 0.18995347,\n",
              "       0.00495833])"
            ]
          },
          "metadata": {
            "tags": []
          },
          "execution_count": 92
        }
      ]
    },
    {
      "metadata": {
        "id": "2PaePCERI-Sh",
        "colab_type": "code",
        "colab": {
          "base_uri": "https://localhost:8080/",
          "height": 34
        },
        "outputId": "c851992c-96a9-44c3-8a14-eef2f00e9379"
      },
      "cell_type": "code",
      "source": [
        "res2.fun"
      ],
      "execution_count": 218,
      "outputs": [
        {
          "output_type": "execute_result",
          "data": {
            "text/plain": [
              "0.00021910310153414655"
            ]
          },
          "metadata": {
            "tags": []
          },
          "execution_count": 218
        }
      ]
    },
    {
      "metadata": {
        "id": "_N6188WPk30m",
        "colab_type": "text"
      },
      "cell_type": "markdown",
      "source": [
        "#### 3.3 gamma = 0.2"
      ]
    },
    {
      "metadata": {
        "id": "PSOT9A9gk30m",
        "colab_type": "code",
        "colab": {}
      },
      "cell_type": "code",
      "source": [
        "gamma3 = 0.2\n",
        "def returnfunc(x):\n",
        "    return -(x.T * mu_matrix.T-gamma3* np.sqrt(np.dot(np.dot(x.T,Cov),x)))"
      ],
      "execution_count": 0,
      "outputs": []
    },
    {
      "metadata": {
        "id": "YTOa1E60k30o",
        "colab_type": "code",
        "colab": {
          "base_uri": "https://localhost:8080/",
          "height": 34
        },
        "outputId": "e6edace5-b648-4439-b305-6b4aac39a964"
      },
      "cell_type": "code",
      "source": [
        "x0 = np.matrix('0 0 0 0 0 0 ')\n",
        "print(x0)"
      ],
      "execution_count": 94,
      "outputs": [
        {
          "output_type": "stream",
          "text": [
            "[[0 0 0 0 0 0]]\n"
          ],
          "name": "stdout"
        }
      ]
    },
    {
      "metadata": {
        "id": "ib5QsjuKk30r",
        "colab_type": "code",
        "colab": {}
      },
      "cell_type": "code",
      "source": [
        "res3 = scipy.optimize.minimize(\n",
        "    returnfunc,\n",
        "    x0,\n",
        "    constraints=(\n",
        "        {'type':'eq','fun':lambda x:x[0]+x[1]+x[2]+x[3]+x[4]+x[5]-1}\n",
        "    ),\n",
        "    bounds=((0,None),(0,None),(0,None),(0,None),(0,None),(0,None)),\n",
        ")"
      ],
      "execution_count": 0,
      "outputs": []
    },
    {
      "metadata": {
        "id": "auF69O8uk30t",
        "colab_type": "code",
        "colab": {
          "base_uri": "https://localhost:8080/",
          "height": 51
        },
        "outputId": "14330930-bbba-4634-dd75-a3ac5acefb11"
      },
      "cell_type": "code",
      "source": [
        "res3.x"
      ],
      "execution_count": 96,
      "outputs": [
        {
          "output_type": "execute_result",
          "data": {
            "text/plain": [
              "array([0.25906249, 0.16776416, 0.16932891, 0.19124837, 0.18827692,\n",
              "       0.02431914])"
            ]
          },
          "metadata": {
            "tags": []
          },
          "execution_count": 96
        }
      ]
    },
    {
      "metadata": {
        "id": "POjz_E4k2-nc",
        "colab_type": "code",
        "colab": {
          "base_uri": "https://localhost:8080/",
          "height": 235
        },
        "outputId": "1301294f-134d-4606-ca3b-56451c538d2f"
      },
      "cell_type": "code",
      "source": [
        "result = pd.DataFrame(list(zip(x_min,res1.x,res2.x,res3.x)),\n",
        "                     columns = ['Minimize_Risk','Maximize_Return(gamma = 0.1)','Maximize_Return(gamma = 0.15)','Maximize_Return(gamma = 0.2)'],\n",
        "                     index = ['Amazon','Apple','Ebay','Facebook','Google','Twitter'])\n",
        "result = result.round(3)\n",
        "result"
      ],
      "execution_count": 214,
      "outputs": [
        {
          "output_type": "execute_result",
          "data": {
            "text/html": [
              "<div>\n",
              "<style scoped>\n",
              "    .dataframe tbody tr th:only-of-type {\n",
              "        vertical-align: middle;\n",
              "    }\n",
              "\n",
              "    .dataframe tbody tr th {\n",
              "        vertical-align: top;\n",
              "    }\n",
              "\n",
              "    .dataframe thead th {\n",
              "        text-align: right;\n",
              "    }\n",
              "</style>\n",
              "<table border=\"1\" class=\"dataframe\">\n",
              "  <thead>\n",
              "    <tr style=\"text-align: right;\">\n",
              "      <th></th>\n",
              "      <th>Minimize_Risk</th>\n",
              "      <th>Maximize_Return(gamma = 0.1)</th>\n",
              "      <th>Maximize_Return(gamma = 0.15)</th>\n",
              "      <th>Maximize_Return(gamma = 0.2)</th>\n",
              "    </tr>\n",
              "  </thead>\n",
              "  <tbody>\n",
              "    <tr>\n",
              "      <th>Amazon</th>\n",
              "      <td>0.204</td>\n",
              "      <td>0.297</td>\n",
              "      <td>0.280</td>\n",
              "      <td>0.259</td>\n",
              "    </tr>\n",
              "    <tr>\n",
              "      <th>Apple</th>\n",
              "      <td>0.196</td>\n",
              "      <td>0.155</td>\n",
              "      <td>0.163</td>\n",
              "      <td>0.168</td>\n",
              "    </tr>\n",
              "    <tr>\n",
              "      <th>Ebay</th>\n",
              "      <td>0.162</td>\n",
              "      <td>0.163</td>\n",
              "      <td>0.167</td>\n",
              "      <td>0.169</td>\n",
              "    </tr>\n",
              "    <tr>\n",
              "      <th>Facebook</th>\n",
              "      <td>0.174</td>\n",
              "      <td>0.197</td>\n",
              "      <td>0.195</td>\n",
              "      <td>0.191</td>\n",
              "    </tr>\n",
              "    <tr>\n",
              "      <th>Google</th>\n",
              "      <td>0.190</td>\n",
              "      <td>0.189</td>\n",
              "      <td>0.190</td>\n",
              "      <td>0.188</td>\n",
              "    </tr>\n",
              "    <tr>\n",
              "      <th>Twitter</th>\n",
              "      <td>0.075</td>\n",
              "      <td>0.000</td>\n",
              "      <td>0.005</td>\n",
              "      <td>0.024</td>\n",
              "    </tr>\n",
              "  </tbody>\n",
              "</table>\n",
              "</div>"
            ],
            "text/plain": [
              "          Minimize_Risk  Maximize_Return(gamma = 0.1)  \\\n",
              "Amazon            0.204                         0.297   \n",
              "Apple             0.196                         0.155   \n",
              "Ebay              0.162                         0.163   \n",
              "Facebook          0.174                         0.197   \n",
              "Google            0.190                         0.189   \n",
              "Twitter           0.075                         0.000   \n",
              "\n",
              "          Maximize_Return(gamma = 0.15)  Maximize_Return(gamma = 0.2)  \n",
              "Amazon                            0.280                         0.259  \n",
              "Apple                             0.163                         0.168  \n",
              "Ebay                              0.167                         0.169  \n",
              "Facebook                          0.195                         0.191  \n",
              "Google                            0.190                         0.188  \n",
              "Twitter                           0.005                         0.024  "
            ]
          },
          "metadata": {
            "tags": []
          },
          "execution_count": 214
        }
      ]
    },
    {
      "metadata": {
        "id": "tozJhxP6k30w",
        "colab_type": "text"
      },
      "cell_type": "markdown",
      "source": [
        "### 4. Simulation\n",
        "\n",
        "Based on the optimal allocations $𝑥^∗$ obtained in the two questions above, 𝜇 and 𝛴, please simulate the value of your portfolio after 300 trading days assuming that you have invested $100,000.\n",
        "- Report the mean and the variance of the portfolio in a table\n",
        "- Provide visualizations of your results. "
      ]
    },
    {
      "metadata": {
        "id": "jfYCnsLsk30x",
        "colab_type": "text"
      },
      "cell_type": "markdown",
      "source": [
        "#### 4.1 Minimizing Risk Simulation"
      ]
    },
    {
      "metadata": {
        "id": "IfsqgHYfk30y",
        "colab_type": "code",
        "colab": {
          "base_uri": "https://localhost:8080/",
          "height": 376
        },
        "outputId": "942d8de1-b33a-461a-9b17-b68f4575f089"
      },
      "cell_type": "code",
      "source": [
        "# Simulation\n",
        "import numpy as np\n",
        "import matplotlib.pyplot as plt\n",
        "simu=500 # I am doing 500 simulations\n",
        "T = 300 # 300 trading days\n",
        "m=6 # I have 5 assets\n",
        "B=100000 # Budget is $100000\n",
        "z_values = []\n",
        "for q in range(simu):\n",
        "    y = np.zeros((T+1,m))\n",
        "    y[0]=[x.value.item(0),x.value.item(1),x.value.item(2),x.value.item(3),x.value.item(4),x.value.item(5)]\n",
        "    for i in range(T):\n",
        "        rr=np.random.multivariate_normal(mu,Cov)\n",
        "        y[i+1]=y[i]*(1+rr)\n",
        "    z_values.append(sum(y[T])*B)\n",
        "plt.hist(z_values, density=True )\n",
        "plt.xlabel('Portfolio')\n",
        "plt.ylabel('Probability')\n",
        "plt.title('Histogram of Returns')\n",
        "plt.show()"
      ],
      "execution_count": 171,
      "outputs": [
        {
          "output_type": "display_data",
          "data": {
            "image/png": "[encoded data removed]",
            "text/plain": [
              "<matplotlib.figure.Figure at 0x7f403ba6ada0>"
            ]
          },
          "metadata": {
            "tags": []
          }
        }
      ]
    },
    {
      "metadata": {
        "id": "S6fTQhBrk30z",
        "colab_type": "code",
        "colab": {}
      },
      "cell_type": "code",
      "source": [
        "min_mean = np.mean(z_values)\n",
        "min_var = np.var(z_values)"
      ],
      "execution_count": 0,
      "outputs": []
    },
    {
      "metadata": {
        "id": "ppBUQrP-k302",
        "colab_type": "text"
      },
      "cell_type": "markdown",
      "source": [
        "#### 4.2.1 Maximizing Return (Utility) - gamma = 0.10"
      ]
    },
    {
      "metadata": {
        "id": "oRfsDBhbk303",
        "colab_type": "code",
        "colab": {
          "base_uri": "https://localhost:8080/",
          "height": 376
        },
        "outputId": "6a409bf7-34f7-488c-f8ed-2cab7c1ce0b1"
      },
      "cell_type": "code",
      "source": [
        "# Simulation\n",
        "import numpy as np\n",
        "import matplotlib.pyplot as plt\n",
        "simu=500 # I am doing 500 simulations\n",
        "T = 300 # 300 trading days\n",
        "m=6 # I have 5 assets\n",
        "B=100000 # Budget is $100000\n",
        "z_values = []\n",
        "for q in range(simu):\n",
        "    y = np.zeros((T+1,m))\n",
        "    y[0]=[res1.x.item(0),res1.x.item(1),res1.x.item(2),res1.x.item(3),res1.x.item(4),res1.x.item(5)]\n",
        "    for i in range(T):\n",
        "        rr=np.random.multivariate_normal(mu,Cov)\n",
        "        y[i+1]=y[i]*(1+rr)\n",
        "    z_values.append(sum(y[T])*B)\n",
        "\n",
        "plt.hist(z_values, density=True )\n",
        "plt.xlabel('Portfolio')\n",
        "plt.ylabel('Probability')\n",
        "plt.title('Histogram of Returns')\n",
        "plt.show()"
      ],
      "execution_count": 173,
      "outputs": [
        {
          "output_type": "display_data",
          "data": {
            "image/png": "[encoded data removed]",
            "text/plain": [
              "<matplotlib.figure.Figure at 0x7f40394b1a20>"
            ]
          },
          "metadata": {
            "tags": []
          }
        }
      ]
    },
    {
      "metadata": {
        "id": "-Lq_7bDTk305",
        "colab_type": "code",
        "colab": {}
      },
      "cell_type": "code",
      "source": [
        "max_mean1 = np.mean(z_values)\n",
        "max_var1 = np.var(z_values)"
      ],
      "execution_count": 0,
      "outputs": []
    },
    {
      "metadata": {
        "id": "mqgB5-C5k307",
        "colab_type": "text"
      },
      "cell_type": "markdown",
      "source": [
        "#### 4.2.2 Maximizing Return (Utility) - gamma = 0.15"
      ]
    },
    {
      "metadata": {
        "id": "Oxn2dnVdk307",
        "colab_type": "code",
        "colab": {
          "base_uri": "https://localhost:8080/",
          "height": 376
        },
        "outputId": "88e7c7b0-18fa-49b1-f8a2-539b3ea73fa3"
      },
      "cell_type": "code",
      "source": [
        "# Simulation\n",
        "import numpy as np\n",
        "import matplotlib.pyplot as plt\n",
        "simu=500 # I am doing 500 simulations\n",
        "T = 300 # 300 trading days\n",
        "m=6 # I have 6 assets\n",
        "B=100000 # Budget is $100000\n",
        "z_values = []\n",
        "for q in range(simu):\n",
        "    y = np.zeros((T+1,m))\n",
        "    y[0]=[res2.x.item(0),res2.x.item(1),res2.x.item(2),res2.x.item(3),res2.x.item(4),res2.x.item(5)]\n",
        "    for i in range(T):\n",
        "        rr=np.random.multivariate_normal(mu,Cov)\n",
        "        y[i+1]=y[i]*(1+rr)\n",
        "    z_values.append(sum(y[T])*B)\n",
        "\n",
        "plt.hist(z_values, density=True )\n",
        "plt.xlabel('Portfolio')\n",
        "plt.ylabel('Probability')\n",
        "plt.title('Histogram of Returns')\n",
        "plt.show()"
      ],
      "execution_count": 175,
      "outputs": [
        {
          "output_type": "display_data",
          "data": {
            "image/png": "[encoded data removed]",
            "text/plain": [
              "<matplotlib.figure.Figure at 0x7f4039059390>"
            ]
          },
          "metadata": {
            "tags": []
          }
        }
      ]
    },
    {
      "metadata": {
        "id": "dNoYjOcmk30-",
        "colab_type": "code",
        "colab": {}
      },
      "cell_type": "code",
      "source": [
        "max_mean2 = (np.mean(z_values))\n",
        "max_var2 = (np.var(z_values))"
      ],
      "execution_count": 0,
      "outputs": []
    },
    {
      "metadata": {
        "id": "Gz234RHNk31A",
        "colab_type": "text"
      },
      "cell_type": "markdown",
      "source": [
        "#### 4.2.3 Maximizing Return (Utility) - gamma = 0.20"
      ]
    },
    {
      "metadata": {
        "id": "q79xSzvJk31A",
        "colab_type": "code",
        "colab": {
          "base_uri": "https://localhost:8080/",
          "height": 376
        },
        "outputId": "98a3d067-7202-44d1-f44d-1c6b2ecb0086"
      },
      "cell_type": "code",
      "source": [
        "# Simulation\n",
        "import numpy as np\n",
        "import matplotlib.pyplot as plt\n",
        "simu=500 # I am doing 500 simulations\n",
        "T = 300 # 300 trading days\n",
        "m=6 # I have 6 assets\n",
        "B=100000 # Budget is $100000\n",
        "z_values = []\n",
        "for q in range(simu):\n",
        "    y = np.zeros((T+1,m))\n",
        "    y[0]=[res3.x.item(0),res3.x.item(1),res3.x.item(2),res3.x.item(3),res3.x.item(4),res3.x.item(5)]\n",
        "    for i in range(T):\n",
        "        rr=np.random.multivariate_normal(mu,Cov)\n",
        "        y[i+1]=y[i]*(1+rr)\n",
        "    z_values.append(sum(y[T])*B)\n",
        "\n",
        "plt.hist(z_values, density=True )\n",
        "plt.xlabel('Portfolio')\n",
        "plt.ylabel('Probability')\n",
        "plt.title('Histogram of Returns')\n",
        "plt.show()"
      ],
      "execution_count": 177,
      "outputs": [
        {
          "output_type": "display_data",
          "data": {
            "image/png": "[encoded data removed]",
            "text/plain": [
              "<matplotlib.figure.Figure at 0x7f40391eacc0>"
            ]
          },
          "metadata": {
            "tags": []
          }
        }
      ]
    },
    {
      "metadata": {
        "id": "__7rUi6Ik31E",
        "colab_type": "code",
        "colab": {}
      },
      "cell_type": "code",
      "source": [
        "max_mean3 = (np.mean(z_values))\n",
        "max_var3 = (np.var(z_values))"
      ],
      "execution_count": 0,
      "outputs": []
    },
    {
      "metadata": {
        "id": "jyG_qTQXk31G",
        "colab_type": "text"
      },
      "cell_type": "markdown",
      "source": [
        "#### 4.3. Reporting Result\n"
      ]
    },
    {
      "metadata": {
        "id": "0Q4QwrYFYnnX",
        "colab_type": "code",
        "colab": {
          "base_uri": "https://localhost:8080/",
          "height": 34
        },
        "outputId": "2f275142-8d68-41df-8480-33894ad29cc8"
      },
      "cell_type": "code",
      "source": [
        "simulation_mean = np.array([min_mean,max_mean1,max_mean2,max_mean3])\n",
        "simulation_mean = simulation_mean.round(3)"
      ],
      "execution_count": 187,
      "outputs": [
        {
          "output_type": "execute_result",
          "data": {
            "text/plain": [
              "array([137628.886, 146226.069, 144141.45 , 142008.644])"
            ]
          },
          "metadata": {
            "tags": []
          },
          "execution_count": 187
        }
      ]
    },
    {
      "metadata": {
        "id": "Wdw6aKt8vcPC",
        "colab_type": "code",
        "colab": {}
      },
      "cell_type": "code",
      "source": [
        "simulation_var = np.array([min_var,max_var1,max_var2,max_var3])\n",
        "simulation_var = simulation_var.round(3)"
      ],
      "execution_count": 0,
      "outputs": []
    },
    {
      "metadata": {
        "id": "ovaZmVOLv0Q7",
        "colab_type": "code",
        "colab": {
          "base_uri": "https://localhost:8080/",
          "height": 173
        },
        "outputId": "f4478161-1c40-4fb4-f86d-05dab21cd950"
      },
      "cell_type": "code",
      "source": [
        "result.loc['potfolio_mean'] = simulation_mean\n",
        "result.loc['potfolio_variance'] =simulation_var\n",
        "result = result.T\n",
        "result"
      ],
      "execution_count": 215,
      "outputs": [
        {
          "output_type": "execute_result",
          "data": {
            "text/html": [
              "<div>\n",
              "<style scoped>\n",
              "    .dataframe tbody tr th:only-of-type {\n",
              "        vertical-align: middle;\n",
              "    }\n",
              "\n",
              "    .dataframe tbody tr th {\n",
              "        vertical-align: top;\n",
              "    }\n",
              "\n",
              "    .dataframe thead th {\n",
              "        text-align: right;\n",
              "    }\n",
              "</style>\n",
              "<table border=\"1\" class=\"dataframe\">\n",
              "  <thead>\n",
              "    <tr style=\"text-align: right;\">\n",
              "      <th></th>\n",
              "      <th>Amazon</th>\n",
              "      <th>Apple</th>\n",
              "      <th>Ebay</th>\n",
              "      <th>Facebook</th>\n",
              "      <th>Google</th>\n",
              "      <th>Twitter</th>\n",
              "      <th>potfolio_mean</th>\n",
              "      <th>potfolio_variance</th>\n",
              "    </tr>\n",
              "  </thead>\n",
              "  <tbody>\n",
              "    <tr>\n",
              "      <th>Minimize_Risk</th>\n",
              "      <td>0.204</td>\n",
              "      <td>0.196</td>\n",
              "      <td>0.162</td>\n",
              "      <td>0.174</td>\n",
              "      <td>0.190</td>\n",
              "      <td>0.075</td>\n",
              "      <td>137628.886215</td>\n",
              "      <td>4.879576e+08</td>\n",
              "    </tr>\n",
              "    <tr>\n",
              "      <th>Maximize_Return(gamma = 0.1)</th>\n",
              "      <td>0.297</td>\n",
              "      <td>0.155</td>\n",
              "      <td>0.163</td>\n",
              "      <td>0.197</td>\n",
              "      <td>0.189</td>\n",
              "      <td>0.000</td>\n",
              "      <td>146226.069108</td>\n",
              "      <td>6.250434e+08</td>\n",
              "    </tr>\n",
              "    <tr>\n",
              "      <th>Maximize_Return(gamma = 0.15)</th>\n",
              "      <td>0.280</td>\n",
              "      <td>0.163</td>\n",
              "      <td>0.167</td>\n",
              "      <td>0.195</td>\n",
              "      <td>0.190</td>\n",
              "      <td>0.005</td>\n",
              "      <td>144141.449910</td>\n",
              "      <td>5.976632e+08</td>\n",
              "    </tr>\n",
              "    <tr>\n",
              "      <th>Maximize_Return(gamma = 0.2)</th>\n",
              "      <td>0.259</td>\n",
              "      <td>0.168</td>\n",
              "      <td>0.169</td>\n",
              "      <td>0.191</td>\n",
              "      <td>0.188</td>\n",
              "      <td>0.024</td>\n",
              "      <td>142008.643637</td>\n",
              "      <td>5.587610e+08</td>\n",
              "    </tr>\n",
              "  </tbody>\n",
              "</table>\n",
              "</div>"
            ],
            "text/plain": [
              "                               Amazon  Apple   Ebay  Facebook  Google  \\\n",
              "Minimize_Risk                   0.204  0.196  0.162     0.174   0.190   \n",
              "Maximize_Return(gamma = 0.1)    0.297  0.155  0.163     0.197   0.189   \n",
              "Maximize_Return(gamma = 0.15)   0.280  0.163  0.167     0.195   0.190   \n",
              "Maximize_Return(gamma = 0.2)    0.259  0.168  0.169     0.191   0.188   \n",
              "\n",
              "                               Twitter  potfolio_mean  potfolio_variance  \n",
              "Minimize_Risk                    0.075  137628.886215       4.879576e+08  \n",
              "Maximize_Return(gamma = 0.1)     0.000  146226.069108       6.250434e+08  \n",
              "Maximize_Return(gamma = 0.15)    0.005  144141.449910       5.976632e+08  \n",
              "Maximize_Return(gamma = 0.2)     0.024  142008.643637       5.587610e+08  "
            ]
          },
          "metadata": {
            "tags": []
          },
          "execution_count": 215
        }
      ]
    },
    {
      "metadata": {
        "id": "p2UfJ2BPL1A5",
        "colab_type": "code",
        "colab": {
          "base_uri": "https://localhost:8080/",
          "height": 51
        },
        "outputId": "70a43196-c2a1-4357-e3e6-cc010fa71c06"
      },
      "cell_type": "code",
      "source": [
        "mu"
      ],
      "execution_count": 222,
      "outputs": [
        {
          "output_type": "execute_result",
          "data": {
            "text/plain": [
              "array([ 1.98778605e-03,  6.25712685e-04,  7.54726158e-04,  1.08819147e-03,\n",
              "        9.73603071e-04, -2.78636077e-05])"
            ]
          },
          "metadata": {
            "tags": []
          },
          "execution_count": 222
        }
      ]
    },
    {
      "metadata": {
        "id": "ykACNtb_MR-1",
        "colab_type": "code",
        "colab": {
          "base_uri": "https://localhost:8080/",
          "height": 51
        },
        "outputId": "582c67a1-5b7d-4692-c8e4-5b5c48953da1"
      },
      "cell_type": "code",
      "source": [
        "var"
      ],
      "execution_count": 223,
      "outputs": [
        {
          "output_type": "execute_result",
          "data": {
            "text/plain": [
              "array([0.0004072 , 0.0002108 , 0.00029204, 0.00024236, 0.00020284,\n",
              "       0.00107123])"
            ]
          },
          "metadata": {
            "tags": []
          },
          "execution_count": 223
        }
      ]
    },
    {
      "metadata": {
        "id": "sVyq2fRvk31I",
        "colab_type": "text"
      },
      "cell_type": "markdown",
      "source": [
        "### 5. Recommendations\n",
        "- a. Explain the different allocations, i.e., why they are different.\n",
        "- b. What should an investor with risk aversion $\\gamma$ = 0.1 do? What about investors with\n",
        "$\\gamma$ = 0.15 and $\\gamma$ = 0.2?"
      ]
    },
    {
      "metadata": {
        "id": "ED7zOZ52weba",
        "colab_type": "text"
      },
      "cell_type": "markdown",
      "source": [
        "a.  With mu  = [ 1.98778605e-03,  6.25712685e-04,  7.54726158e-04,  1.08819147e-03,\n",
        "        9.73603071e-04, -2.78636077e-05] and var = [0.0004072 , 0.0002108 , 0.00029204, 0.00024236, 0.00020284,\n",
        "       0.00107123], it means: \n",
        "        \n",
        "        For average return: Amazon>Facebook>Google>Ebay>Apple>Twitter\n",
        "       \n",
        "       For variance: Twitter>Amazon>Ebay>Facebook>Apple>Google\n",
        "       \n",
        "       \n",
        "       Amazon has highest average return rate and Twitter has lowest return; Twitter is most volatile and Google is the most stable\n",
        "       \n",
        "   \n",
        "\n",
        "There are four different kind of investors - Minimize_Risk, Maximize_Return(gamma = 0.1), Maximize_Return(gamma = 0.15) and Maximize_Return(gamma =0.20). \n",
        "\n",
        "**Minimize_risk type of investor**: \n",
        "\n",
        "- The theory is that they want to avoid risk as much as possible, and it could possible lead to low return as well.The portfolio proves the theory with the lowest return and the lowest variance.\n",
        "- Since Twitter has the highest variance and lowest return, they definitely want to avoid Twitter, and Twitter is only  7.5%. of the portfolio.    \n",
        "- Even though Amazon(20.4%) has high variance, the stock has the highest return rate, doubling the the second highest stock. The extremely high return rate balanced out the variance part.\n",
        "- We can see that the portfolio also consists of 19.5% of Apple,  19% of Google, 17.4% on Facebook and they are all low variance stocks, with Facebook>Apple>Google on variance.\n",
        "\n",
        "**Maximize_return type of investor**\n",
        "- Since gamma is the risk aversion parameter, which means that the higher the risk averse (the gamma value), the more likely the investor would be willing to accept lower return portfolio as long as the portfolio has lower variance. \n",
        "- It is true with our case: When we increase gamma, the portfolio return gets lower and the portfolio variance gets lower as well.\n",
        "- For the stock allocation, the higher the risk aversion factor, the lower portion we invest in Amazon. \n",
        "\n",
        "b. \n",
        "**Investor with risk aversion $\\gamma = 0.1$**:\n",
        "- He or she is the least risk averse and should choose stock with high risk and high return, which means they should invest in more Amazon, Facebook and Google, which are the top three return stocks.\n",
        "\n",
        "**Investor with risk aversion $\\gamma = 0.15$**:\n",
        "- He or she is the medium risk averse type and should choose stock with medium risk even when chasing for high return, which means that they should convert some of their high risk high return stocks to lower risk and slightly lower return stocks, which means that he or she should reduce the positions in Aamzon.\n",
        "\n",
        "**Investor with risk aversion $\\gamma = 0.20$**:\n",
        "- He or she is the most risk averse type and should choose stock with low risk even when chasing for high return, which means that they should convert more of their high risk high return stocks to lower risk and lower return stocks. For example, they should reducde their positions in Amazon and increase their positions in Apple(low variance)"
      ]
    },
    {
      "metadata": {
        "id": "tZeVs8kVk31I",
        "colab_type": "text"
      },
      "cell_type": "markdown",
      "source": [
        "## Part B: Portfolio Optimization based on the last 400 trading days\n",
        "\n",
        "Redo Part A taking into account the last 400 trading days only."
      ]
    },
    {
      "metadata": {
        "id": "ktbV8kjWk31I",
        "colab_type": "code",
        "colab": {
          "base_uri": "https://localhost:8080/",
          "height": 34
        },
        "outputId": "dcec1d06-84f7-4fde-dcc5-869d0592b573"
      },
      "cell_type": "code",
      "source": [
        "df_2 = df.iloc[-400:]\n",
        "df_2.shape"
      ],
      "execution_count": 263,
      "outputs": [
        {
          "output_type": "execute_result",
          "data": {
            "text/plain": [
              "(400, 6)"
            ]
          },
          "metadata": {
            "tags": []
          },
          "execution_count": 263
        }
      ]
    },
    {
      "metadata": {
        "id": "VZOiBVilk31K",
        "colab_type": "text"
      },
      "cell_type": "markdown",
      "source": [
        "### 1. Prepare the dataset\n",
        "\n",
        "#### A. Based on the dataset, compute the rate of returns for each stock, i.e.,\n",
        "\n",
        "$$r_{it} = \\frac{I_{i,t} - I_{i,t-1}}{I_{i,t-1}}$$\n",
        "\n",
        "where $I_{i,t}$ is the raw data from stock i at time t.\n"
      ]
    },
    {
      "metadata": {
        "id": "AtUkZAHtk31L",
        "colab_type": "code",
        "colab": {
          "base_uri": "https://localhost:8080/",
          "height": 204
        },
        "outputId": "77f3d18b-7a83-4c1f-ff63-17424fd8e41f"
      },
      "cell_type": "code",
      "source": [
        "# calculate the rate of returns for each stock\n",
        "rr_2 =  df_2.pct_change()\n",
        "rr_2.head()"
      ],
      "execution_count": 264,
      "outputs": [
        {
          "output_type": "execute_result",
          "data": {
            "text/html": [
              "<div>\n",
              "<style scoped>\n",
              "    .dataframe tbody tr th:only-of-type {\n",
              "        vertical-align: middle;\n",
              "    }\n",
              "\n",
              "    .dataframe tbody tr th {\n",
              "        vertical-align: top;\n",
              "    }\n",
              "\n",
              "    .dataframe thead th {\n",
              "        text-align: right;\n",
              "    }\n",
              "</style>\n",
              "<table border=\"1\" class=\"dataframe\">\n",
              "  <thead>\n",
              "    <tr style=\"text-align: right;\">\n",
              "      <th></th>\n",
              "      <th>Amazon</th>\n",
              "      <th>Apple</th>\n",
              "      <th>Ebay</th>\n",
              "      <th>Facebook</th>\n",
              "      <th>Google</th>\n",
              "      <th>Twitter</th>\n",
              "    </tr>\n",
              "  </thead>\n",
              "  <tbody>\n",
              "    <tr>\n",
              "      <th>399</th>\n",
              "      <td>NaN</td>\n",
              "      <td>NaN</td>\n",
              "      <td>NaN</td>\n",
              "      <td>NaN</td>\n",
              "      <td>NaN</td>\n",
              "      <td>NaN</td>\n",
              "    </tr>\n",
              "    <tr>\n",
              "      <th>400</th>\n",
              "      <td>-0.015032</td>\n",
              "      <td>0.015207</td>\n",
              "      <td>0.010625</td>\n",
              "      <td>0.006353</td>\n",
              "      <td>0.012142</td>\n",
              "      <td>0.067554</td>\n",
              "    </tr>\n",
              "    <tr>\n",
              "      <th>401</th>\n",
              "      <td>-0.002854</td>\n",
              "      <td>0.008281</td>\n",
              "      <td>-0.007646</td>\n",
              "      <td>0.000879</td>\n",
              "      <td>-0.002107</td>\n",
              "      <td>-0.022052</td>\n",
              "    </tr>\n",
              "    <tr>\n",
              "      <th>402</th>\n",
              "      <td>0.015332</td>\n",
              "      <td>0.004060</td>\n",
              "      <td>-0.001284</td>\n",
              "      <td>-0.001597</td>\n",
              "      <td>0.002794</td>\n",
              "      <td>-0.011274</td>\n",
              "    </tr>\n",
              "    <tr>\n",
              "      <th>403</th>\n",
              "      <td>0.008462</td>\n",
              "      <td>-0.007444</td>\n",
              "      <td>0.000321</td>\n",
              "      <td>-0.001439</td>\n",
              "      <td>0.001251</td>\n",
              "      <td>-0.058007</td>\n",
              "    </tr>\n",
              "  </tbody>\n",
              "</table>\n",
              "</div>"
            ],
            "text/plain": [
              "       Amazon     Apple      Ebay  Facebook    Google   Twitter\n",
              "399       NaN       NaN       NaN       NaN       NaN       NaN\n",
              "400 -0.015032  0.015207  0.010625  0.006353  0.012142  0.067554\n",
              "401 -0.002854  0.008281 -0.007646  0.000879 -0.002107 -0.022052\n",
              "402  0.015332  0.004060 -0.001284 -0.001597  0.002794 -0.011274\n",
              "403  0.008462 -0.007444  0.000321 -0.001439  0.001251 -0.058007"
            ]
          },
          "metadata": {
            "tags": []
          },
          "execution_count": 264
        }
      ]
    },
    {
      "metadata": {
        "id": "_fpdbOgok31N",
        "colab_type": "text"
      },
      "cell_type": "markdown",
      "source": [
        "\n",
        "\n",
        "\n",
        "#### B. Based on the data set, compute the average returns that will be used for the optimization, i.e.,\n",
        "\n",
        "$$\\mu_{i} = \\displaystyle\\sum_{t=1}^T (1+r_{it})^\\frac{1}{T} - 1 $$\n",
        "Hint: the term $\\displaystyle\\sum_{t=1}^T (1+r_{it})^\\frac{1}{T}$ is a geometric mean"
      ]
    },
    {
      "metadata": {
        "id": "3C9xoSaJk31N",
        "colab_type": "code",
        "colab": {
          "base_uri": "https://localhost:8080/",
          "height": 204
        },
        "outputId": "7979c3b1-ad37-4262-e0f1-64169622495c"
      },
      "cell_type": "code",
      "source": [
        "# remove the NAN value and add 1 to all values \n",
        "rr1_2 = rr_2[1:] # rr1 is average returns without NANs\n",
        "rr2_2 = rr1_2 + 1 #rr2 is average returns +1\n",
        "rr2_2.head()"
      ],
      "execution_count": 265,
      "outputs": [
        {
          "output_type": "execute_result",
          "data": {
            "text/html": [
              "<div>\n",
              "<style scoped>\n",
              "    .dataframe tbody tr th:only-of-type {\n",
              "        vertical-align: middle;\n",
              "    }\n",
              "\n",
              "    .dataframe tbody tr th {\n",
              "        vertical-align: top;\n",
              "    }\n",
              "\n",
              "    .dataframe thead th {\n",
              "        text-align: right;\n",
              "    }\n",
              "</style>\n",
              "<table border=\"1\" class=\"dataframe\">\n",
              "  <thead>\n",
              "    <tr style=\"text-align: right;\">\n",
              "      <th></th>\n",
              "      <th>Amazon</th>\n",
              "      <th>Apple</th>\n",
              "      <th>Ebay</th>\n",
              "      <th>Facebook</th>\n",
              "      <th>Google</th>\n",
              "      <th>Twitter</th>\n",
              "    </tr>\n",
              "  </thead>\n",
              "  <tbody>\n",
              "    <tr>\n",
              "      <th>400</th>\n",
              "      <td>0.984968</td>\n",
              "      <td>1.015207</td>\n",
              "      <td>1.010625</td>\n",
              "      <td>1.006353</td>\n",
              "      <td>1.012142</td>\n",
              "      <td>1.067554</td>\n",
              "    </tr>\n",
              "    <tr>\n",
              "      <th>401</th>\n",
              "      <td>0.997146</td>\n",
              "      <td>1.008281</td>\n",
              "      <td>0.992354</td>\n",
              "      <td>1.000879</td>\n",
              "      <td>0.997893</td>\n",
              "      <td>0.977948</td>\n",
              "    </tr>\n",
              "    <tr>\n",
              "      <th>402</th>\n",
              "      <td>1.015332</td>\n",
              "      <td>1.004060</td>\n",
              "      <td>0.998716</td>\n",
              "      <td>0.998403</td>\n",
              "      <td>1.002794</td>\n",
              "      <td>0.988726</td>\n",
              "    </tr>\n",
              "    <tr>\n",
              "      <th>403</th>\n",
              "      <td>1.008462</td>\n",
              "      <td>0.992556</td>\n",
              "      <td>1.000321</td>\n",
              "      <td>0.998561</td>\n",
              "      <td>1.001251</td>\n",
              "      <td>0.941993</td>\n",
              "    </tr>\n",
              "    <tr>\n",
              "      <th>404</th>\n",
              "      <td>0.999318</td>\n",
              "      <td>0.999352</td>\n",
              "      <td>1.002571</td>\n",
              "      <td>1.000160</td>\n",
              "      <td>0.999641</td>\n",
              "      <td>0.998947</td>\n",
              "    </tr>\n",
              "  </tbody>\n",
              "</table>\n",
              "</div>"
            ],
            "text/plain": [
              "       Amazon     Apple      Ebay  Facebook    Google   Twitter\n",
              "400  0.984968  1.015207  1.010625  1.006353  1.012142  1.067554\n",
              "401  0.997146  1.008281  0.992354  1.000879  0.997893  0.977948\n",
              "402  1.015332  1.004060  0.998716  0.998403  1.002794  0.988726\n",
              "403  1.008462  0.992556  1.000321  0.998561  1.001251  0.941993\n",
              "404  0.999318  0.999352  1.002571  1.000160  0.999641  0.998947"
            ]
          },
          "metadata": {
            "tags": []
          },
          "execution_count": 265
        }
      ]
    },
    {
      "metadata": {
        "id": "P9nFE1H9k31Q",
        "colab_type": "code",
        "colab": {
          "base_uri": "https://localhost:8080/",
          "height": 51
        },
        "outputId": "bb9a9961-d0dd-4482-f3f7-efef99645082"
      },
      "cell_type": "code",
      "source": [
        "# calculate the average returns using gmean\n",
        "mu_2 = scipy.stats.gmean(rr2_2) -1\n",
        "mu_2"
      ],
      "execution_count": 266,
      "outputs": [
        {
          "output_type": "execute_result",
          "data": {
            "text/plain": [
              "array([0.0014643 , 0.00126081, 0.00080563, 0.00098042, 0.0008732 ,\n",
              "       0.00150318])"
            ]
          },
          "metadata": {
            "tags": []
          },
          "execution_count": 266
        }
      ]
    },
    {
      "metadata": {
        "id": "jWxnmIcedYud",
        "colab_type": "code",
        "colab": {
          "base_uri": "https://localhost:8080/",
          "height": 51
        },
        "outputId": "08b691e7-3d32-4540-da31-3e989cc9f1e5"
      },
      "cell_type": "code",
      "source": [
        "var = rr2_2.var(axis = 0)\n",
        "var = np.array(var)\n",
        "var"
      ],
      "execution_count": 267,
      "outputs": [
        {
          "output_type": "execute_result",
          "data": {
            "text/plain": [
              "array([0.00023009, 0.00013972, 0.00023675, 0.00015857, 0.00012249,\n",
              "       0.00100392])"
            ]
          },
          "metadata": {
            "tags": []
          },
          "execution_count": 267
        }
      ]
    },
    {
      "metadata": {
        "id": "PDSYsxBldxsC",
        "colab_type": "code",
        "colab": {}
      },
      "cell_type": "code",
      "source": [
        ""
      ],
      "execution_count": 0,
      "outputs": []
    },
    {
      "metadata": {
        "id": "JG27_8Bck31R",
        "colab_type": "text"
      },
      "cell_type": "markdown",
      "source": [
        "#### C. Based on the data set, compute the variance-covariance matrix of the stock returns, i.e.,\n",
        "\n",
        "$$CoVar(r_{i},r_{j}) = \\frac{1}{T}\\displaystyle\\sum_{t=1}^{T} (r_{it}-\\bar{r_{it}})(r_{jt} -\\bar{r_{jt}})-1$$\n",
        "\n",
        "Hint: the term $\\displaystyle\\sum_{t=1}^{T} (r_{it}-\\bar{r_{it}})(r_{jt} -\\bar{r_{jt}})$ is a geometric mean"
      ]
    },
    {
      "metadata": {
        "id": "KJEC38n9k31R",
        "colab_type": "code",
        "colab": {
          "base_uri": "https://localhost:8080/",
          "height": 221
        },
        "outputId": "658363c8-766b-4085-e4d4-2f1d172cab07"
      },
      "cell_type": "code",
      "source": [
        "# calculate the variance-covariance matrix of the stock returns\n",
        "Cov_2 = np.cov(rr1_2, rowvar =False) \n",
        "Cov_2\n",
        "## If rowvar is True (default), then each row represents a variable, \n",
        "## with observations in the columns. Otherwise, the relationship is \n",
        "## transposed: each column represents a variable, while the rows \n",
        "## contain observations. "
      ],
      "execution_count": 228,
      "outputs": [
        {
          "output_type": "execute_result",
          "data": {
            "text/plain": [
              "array([[ 2.30088874e-04, -9.80656083e-06, -3.67118033e-07,\n",
              "        -2.03091049e-06, -9.31662594e-07, -3.37324041e-05],\n",
              "       [-9.80656083e-06,  1.39717164e-04,  6.59845214e-06,\n",
              "         2.84381359e-06,  6.91391549e-06, -1.06771505e-05],\n",
              "       [-3.67118033e-07,  6.59845214e-06,  2.36747967e-04,\n",
              "        -1.32110055e-05,  1.87955968e-06, -2.61970380e-05],\n",
              "       [-2.03091049e-06,  2.84381359e-06, -1.32110055e-05,\n",
              "         1.58565058e-04,  2.13809934e-05, -2.33631945e-06],\n",
              "       [-9.31662594e-07,  6.91391549e-06,  1.87955968e-06,\n",
              "         2.13809934e-05,  1.22494482e-04, -5.32303550e-06],\n",
              "       [-3.37324041e-05, -1.06771505e-05, -2.61970380e-05,\n",
              "        -2.33631945e-06, -5.32303550e-06,  1.00392215e-03]])"
            ]
          },
          "metadata": {
            "tags": []
          },
          "execution_count": 228
        }
      ]
    },
    {
      "metadata": {
        "id": "Z9bjkDI-k31T",
        "colab_type": "text"
      },
      "cell_type": "markdown",
      "source": [
        "#### D. Provide the vector $\\mu$ and the variance-covariance matrix $\\Sigma$ for the 6 assets considered"
      ]
    },
    {
      "metadata": {
        "id": "FG8KrgTUk31T",
        "colab_type": "code",
        "colab": {
          "base_uri": "https://localhost:8080/",
          "height": 51
        },
        "outputId": "a01f8303-9084-47c6-805a-ca414feee359"
      },
      "cell_type": "code",
      "source": [
        "# the vector mu \n",
        "mu_2"
      ],
      "execution_count": 229,
      "outputs": [
        {
          "output_type": "execute_result",
          "data": {
            "text/plain": [
              "array([0.0014643 , 0.00126081, 0.00080563, 0.00098042, 0.0008732 ,\n",
              "       0.00150318])"
            ]
          },
          "metadata": {
            "tags": []
          },
          "execution_count": 229
        }
      ]
    },
    {
      "metadata": {
        "id": "xA15Ky2rk31V",
        "colab_type": "code",
        "colab": {}
      },
      "cell_type": "code",
      "source": [
        "mu_matrix = matrix(mu_2)"
      ],
      "execution_count": 0,
      "outputs": []
    },
    {
      "metadata": {
        "id": "wHCQ-XQRk31W",
        "colab_type": "code",
        "colab": {}
      },
      "cell_type": "code",
      "source": [
        "# the variance-covariance matrix Sigma\n",
        "Cov = Cov_2"
      ],
      "execution_count": 0,
      "outputs": []
    },
    {
      "metadata": {
        "id": "JIbtYxD4k31Z",
        "colab_type": "text"
      },
      "cell_type": "markdown",
      "source": [
        "### 2. Portfolio Optimization: Minimizing Risk\n",
        "\n",
        "What is the allocation x = {x1,x2,x3,x4,x5,x6} that solve the following problem\n",
        "\n",
        "$$Minimize\\frac{1}{2}x^{T}\\sum x$$\n",
        "\n",
        "Subject to\n",
        "\n",
        "$$\\mu^{T}x \\geq R \\\\\n",
        "\\displaystyle \\sum_{i=1}^{6} x_{i} = 1 \\\\\n",
        "x \\geq 0$$\n",
        "\n",
        "where R is the annual return that the investor wants to achieve, with R = 0.07"
      ]
    },
    {
      "metadata": {
        "id": "CY--kcmfk31Z",
        "colab_type": "code",
        "colab": {
          "base_uri": "https://localhost:8080/",
          "height": 119
        },
        "outputId": "e009f370-56a3-407a-a6e1-94f4b191b501"
      },
      "cell_type": "code",
      "source": [
        "R=0.07/252 ##there are 252 trading days in a year\n",
        "\n",
        "x=cvx.Variable(6)\n",
        "\n",
        "# Solution\n",
        "# prob = cvs.Problem(objective, C)\n",
        "# result = prob.solve()\n",
        "# Prob 1\n",
        "risk=0.5 *quad_form(x, Cov_2)\n",
        "rr=sum_entries(mu_2*x)\n",
        "prob1 = Problem(Minimize(risk), \n",
        "               [rr>=R,sum_entries(x) == 1, \n",
        "                x >= 0])\n",
        "prob1.solve()\n",
        "print(x.value)\n",
        "x_min = [y[0] for y in x.value.round(3)]"
      ],
      "execution_count": 248,
      "outputs": [
        {
          "output_type": "stream",
          "text": [
            "[[0.16299763]\n",
            " [0.22953546]\n",
            " [0.14733569]\n",
            " [0.18900744]\n",
            " [0.22479685]\n",
            " [0.04632693]]\n"
          ],
          "name": "stdout"
        }
      ]
    },
    {
      "metadata": {
        "id": "vtI9Hm-fk31b",
        "colab_type": "text"
      },
      "cell_type": "markdown",
      "source": [
        "### 3. Portfolio Optimization: Maximizing Returns (or Utility)\n",
        "\n",
        "Another approach to portfolio optimization is to optimize the expected returns that the portfolio would give while penalizing for volatility (variance). Specifically, what is the allocation 𝑥 = {𝑥1, 𝑥2, 𝑥3, 𝑥4, 𝑥5, 𝑥6} that solve the following optimization problem\n",
        "\n",
        "$$ Maximize\\mu^{T}x - \\gamma \\sqrt{(x^{T}\\Sigma x)}$$\n",
        "\n",
        "Subject to \n",
        "$$\\sum_{i=1}^{6}x_{i} = 1 \\\\\n",
        "x \\geq 0$$\n",
        "\n",
        "where $\\gamma$ is the risk aversion coefficient of the investor. Report the optimal allocations for $\\gamma$ = 0.1, $\\gamma$ = 0.15, $\\gamma$ = 0.2, as well as the value of the objective function "
      ]
    },
    {
      "metadata": {
        "id": "7s9Y4UATk31c",
        "colab_type": "text"
      },
      "cell_type": "markdown",
      "source": [
        "#### 3.1 gamma = 0.1"
      ]
    },
    {
      "metadata": {
        "id": "whSt9AkSk31c",
        "colab_type": "code",
        "colab": {}
      },
      "cell_type": "code",
      "source": [
        "import numpy as np\n",
        "from scipy.optimize import minimize"
      ],
      "execution_count": 0,
      "outputs": []
    },
    {
      "metadata": {
        "id": "JWzFdZFDk31e",
        "colab_type": "code",
        "colab": {}
      },
      "cell_type": "code",
      "source": [
        "gamma1 = 0.1\n",
        "def returnfunc(x):\n",
        "    return -(x.T * mu_matrix.T-gamma1*np.sqrt(np.dot(np.dot(x.T,Cov),x)))"
      ],
      "execution_count": 0,
      "outputs": []
    },
    {
      "metadata": {
        "id": "HaVdlkVXk31i",
        "colab_type": "code",
        "colab": {
          "base_uri": "https://localhost:8080/",
          "height": 51
        },
        "outputId": "f45b7e32-d226-4b86-8850-c19b2707ee47"
      },
      "cell_type": "code",
      "source": [
        "x0 = np.matrix('0 0 0 0 0 0 ')\n",
        "print(x0)\n",
        "x0.shape"
      ],
      "execution_count": 235,
      "outputs": [
        {
          "output_type": "stream",
          "text": [
            "[[0 0 0 0 0 0]]\n"
          ],
          "name": "stdout"
        },
        {
          "output_type": "execute_result",
          "data": {
            "text/plain": [
              "(1, 6)"
            ]
          },
          "metadata": {
            "tags": []
          },
          "execution_count": 235
        }
      ]
    },
    {
      "metadata": {
        "id": "LRuyE32Dk31k",
        "colab_type": "code",
        "colab": {
          "base_uri": "https://localhost:8080/",
          "height": 34
        },
        "outputId": "13a9aa73-f1cb-4611-cef8-0178bf039c9f"
      },
      "cell_type": "code",
      "source": [
        "mu_matrix.T.shape"
      ],
      "execution_count": 236,
      "outputs": [
        {
          "output_type": "execute_result",
          "data": {
            "text/plain": [
              "(6, 1)"
            ]
          },
          "metadata": {
            "tags": []
          },
          "execution_count": 236
        }
      ]
    },
    {
      "metadata": {
        "id": "QU-3YoGgk31m",
        "colab_type": "code",
        "colab": {}
      },
      "cell_type": "code",
      "source": [
        "res1 = scipy.optimize.minimize(\n",
        "    returnfunc,\n",
        "    x0,\n",
        "    constraints=(\n",
        "        {'type':'eq','fun':lambda x:x[0]+x[1]+x[2]+x[3]+x[4]+x[5]-1}\n",
        "    ),\n",
        "    bounds=((0,None),(0,None),(0,None),(0,None),(0,None),(0,None)),\n",
        ")"
      ],
      "execution_count": 0,
      "outputs": []
    },
    {
      "metadata": {
        "id": "QnpSRGDmk31o",
        "colab_type": "code",
        "colab": {
          "base_uri": "https://localhost:8080/",
          "height": 51
        },
        "outputId": "f9dfcc8d-7d28-474a-cbe0-4deb0135e999"
      },
      "cell_type": "code",
      "source": [
        "res1.x"
      ],
      "execution_count": 238,
      "outputs": [
        {
          "output_type": "execute_result",
          "data": {
            "text/plain": [
              "array([0.21998636, 0.21232513, 0.15322577, 0.17908012, 0.17333022,\n",
              "       0.06205241])"
            ]
          },
          "metadata": {
            "tags": []
          },
          "execution_count": 238
        }
      ]
    },
    {
      "metadata": {
        "id": "w8CMEQzbk31q",
        "colab_type": "text"
      },
      "cell_type": "markdown",
      "source": [
        "#### 3.2 gamma = 0.15"
      ]
    },
    {
      "metadata": {
        "id": "2tOZBA4zk31r",
        "colab_type": "code",
        "colab": {}
      },
      "cell_type": "code",
      "source": [
        "gamma2 = 0.15\n",
        "def returnfunc(x):\n",
        "    return -(x.T * mu_matrix.T-gamma2*np.sqrt(np.dot(np.dot(x.T,Cov),x)))"
      ],
      "execution_count": 0,
      "outputs": []
    },
    {
      "metadata": {
        "id": "w1xvBVh3k31s",
        "colab_type": "code",
        "colab": {
          "base_uri": "https://localhost:8080/",
          "height": 34
        },
        "outputId": "56ef75e0-cb9c-44b7-9f6c-553a40115711"
      },
      "cell_type": "code",
      "source": [
        "x0 = np.matrix('0 0 0 0 0 0 ')\n",
        "print(x0)"
      ],
      "execution_count": 240,
      "outputs": [
        {
          "output_type": "stream",
          "text": [
            "[[0 0 0 0 0 0]]\n"
          ],
          "name": "stdout"
        }
      ]
    },
    {
      "metadata": {
        "id": "7zXeXmDgk31u",
        "colab_type": "code",
        "colab": {}
      },
      "cell_type": "code",
      "source": [
        "res2 = scipy.optimize.minimize(\n",
        "    returnfunc,\n",
        "    x0,\n",
        "    constraints=(\n",
        "        {'type':'eq','fun':lambda x:x[0]+x[1]+x[2]+x[3]+x[4]+x[5]-1}\n",
        "    ),\n",
        "    bounds=((0,None),(0,None),(0,None),(0,None),(0,None),(0,None)),\n",
        ")"
      ],
      "execution_count": 0,
      "outputs": []
    },
    {
      "metadata": {
        "id": "6TuScE9mk31v",
        "colab_type": "code",
        "colab": {
          "base_uri": "https://localhost:8080/",
          "height": 51
        },
        "outputId": "2213ea99-bc86-4c5c-933b-ddbfde9b9be6"
      },
      "cell_type": "code",
      "source": [
        "res2.x"
      ],
      "execution_count": 242,
      "outputs": [
        {
          "output_type": "execute_result",
          "data": {
            "text/plain": [
              "array([0.20717139, 0.20630262, 0.16345486, 0.18306271, 0.18090267,\n",
              "       0.05910575])"
            ]
          },
          "metadata": {
            "tags": []
          },
          "execution_count": 242
        }
      ]
    },
    {
      "metadata": {
        "id": "n6lutvs7k31x",
        "colab_type": "text"
      },
      "cell_type": "markdown",
      "source": [
        "#### 3.3 gamma = 0.2"
      ]
    },
    {
      "metadata": {
        "id": "Swx3vSEBk31x",
        "colab_type": "code",
        "colab": {}
      },
      "cell_type": "code",
      "source": [
        "gamma3 = 0.2\n",
        "def returnfunc(x):\n",
        "    return -(x.T * mu_matrix.T-gamma3* np.sqrt(np.dot(np.dot(x.T,Cov),x)))"
      ],
      "execution_count": 0,
      "outputs": []
    },
    {
      "metadata": {
        "id": "uLRr0hTUk31y",
        "colab_type": "code",
        "colab": {
          "base_uri": "https://localhost:8080/",
          "height": 34
        },
        "outputId": "e7e0eece-cad2-4b4f-a05f-382b044772c0"
      },
      "cell_type": "code",
      "source": [
        "x0 = np.matrix('0 0 0 0 0 0 ')\n",
        "print(x0)"
      ],
      "execution_count": 244,
      "outputs": [
        {
          "output_type": "stream",
          "text": [
            "[[0 0 0 0 0 0]]\n"
          ],
          "name": "stdout"
        }
      ]
    },
    {
      "metadata": {
        "id": "6-6kSlxHk310",
        "colab_type": "code",
        "colab": {}
      },
      "cell_type": "code",
      "source": [
        "res3 = scipy.optimize.minimize(\n",
        "    returnfunc,\n",
        "    x0,\n",
        "    constraints=(\n",
        "        {'type':'eq','fun':lambda x:x[0]+x[1]+x[2]+x[3]+x[4]+x[5]-1}\n",
        "    ),\n",
        "    bounds=((0,None),(0,None),(0,None),(0,None),(0,None),(0,None)),\n",
        ")"
      ],
      "execution_count": 0,
      "outputs": []
    },
    {
      "metadata": {
        "id": "VvM4NIisk311",
        "colab_type": "code",
        "colab": {
          "base_uri": "https://localhost:8080/",
          "height": 51
        },
        "outputId": "e369dd54-b768-477f-acde-468fdaf340f1"
      },
      "cell_type": "code",
      "source": [
        "res3.x"
      ],
      "execution_count": 246,
      "outputs": [
        {
          "output_type": "execute_result",
          "data": {
            "text/plain": [
              "array([0.20166682, 0.20413569, 0.16790651, 0.18510503, 0.184638  ,\n",
              "       0.05654795])"
            ]
          },
          "metadata": {
            "tags": []
          },
          "execution_count": 246
        }
      ]
    },
    {
      "metadata": {
        "id": "GNFv57GtcFrH",
        "colab_type": "code",
        "colab": {
          "base_uri": "https://localhost:8080/",
          "height": 235
        },
        "outputId": "c6fb8b5d-7dd0-4488-b0f9-acded6d40582"
      },
      "cell_type": "code",
      "source": [
        "result = pd.DataFrame(list(zip(x_min,res1.x,res2.x,res3.x)),\n",
        "                     columns = ['Minimize_Risk','Maximize_Return(gamma = 0.1)','Maximize_Return(gamma = 0.15)','Maximize_Return(gamma = 0.2)'],\n",
        "                     index = ['Amazon','Apple','Ebay','Facebook','Google','Twitter'])\n",
        "result = result.round(3)\n",
        "result"
      ],
      "execution_count": 260,
      "outputs": [
        {
          "output_type": "execute_result",
          "data": {
            "text/html": [
              "<div>\n",
              "<style scoped>\n",
              "    .dataframe tbody tr th:only-of-type {\n",
              "        vertical-align: middle;\n",
              "    }\n",
              "\n",
              "    .dataframe tbody tr th {\n",
              "        vertical-align: top;\n",
              "    }\n",
              "\n",
              "    .dataframe thead th {\n",
              "        text-align: right;\n",
              "    }\n",
              "</style>\n",
              "<table border=\"1\" class=\"dataframe\">\n",
              "  <thead>\n",
              "    <tr style=\"text-align: right;\">\n",
              "      <th></th>\n",
              "      <th>Minimize_Risk</th>\n",
              "      <th>Maximize_Return(gamma = 0.1)</th>\n",
              "      <th>Maximize_Return(gamma = 0.15)</th>\n",
              "      <th>Maximize_Return(gamma = 0.2)</th>\n",
              "    </tr>\n",
              "  </thead>\n",
              "  <tbody>\n",
              "    <tr>\n",
              "      <th>Amazon</th>\n",
              "      <td>0.163</td>\n",
              "      <td>0.220</td>\n",
              "      <td>0.207</td>\n",
              "      <td>0.202</td>\n",
              "    </tr>\n",
              "    <tr>\n",
              "      <th>Apple</th>\n",
              "      <td>0.230</td>\n",
              "      <td>0.212</td>\n",
              "      <td>0.206</td>\n",
              "      <td>0.204</td>\n",
              "    </tr>\n",
              "    <tr>\n",
              "      <th>Ebay</th>\n",
              "      <td>0.147</td>\n",
              "      <td>0.153</td>\n",
              "      <td>0.163</td>\n",
              "      <td>0.168</td>\n",
              "    </tr>\n",
              "    <tr>\n",
              "      <th>Facebook</th>\n",
              "      <td>0.189</td>\n",
              "      <td>0.179</td>\n",
              "      <td>0.183</td>\n",
              "      <td>0.185</td>\n",
              "    </tr>\n",
              "    <tr>\n",
              "      <th>Google</th>\n",
              "      <td>0.225</td>\n",
              "      <td>0.173</td>\n",
              "      <td>0.181</td>\n",
              "      <td>0.185</td>\n",
              "    </tr>\n",
              "    <tr>\n",
              "      <th>Twitter</th>\n",
              "      <td>0.046</td>\n",
              "      <td>0.062</td>\n",
              "      <td>0.059</td>\n",
              "      <td>0.057</td>\n",
              "    </tr>\n",
              "  </tbody>\n",
              "</table>\n",
              "</div>"
            ],
            "text/plain": [
              "          Minimize_Risk  Maximize_Return(gamma = 0.1)  \\\n",
              "Amazon            0.163                         0.220   \n",
              "Apple             0.230                         0.212   \n",
              "Ebay              0.147                         0.153   \n",
              "Facebook          0.189                         0.179   \n",
              "Google            0.225                         0.173   \n",
              "Twitter           0.046                         0.062   \n",
              "\n",
              "          Maximize_Return(gamma = 0.15)  Maximize_Return(gamma = 0.2)  \n",
              "Amazon                            0.207                         0.202  \n",
              "Apple                             0.206                         0.204  \n",
              "Ebay                              0.163                         0.168  \n",
              "Facebook                          0.183                         0.185  \n",
              "Google                            0.181                         0.185  \n",
              "Twitter                           0.059                         0.057  "
            ]
          },
          "metadata": {
            "tags": []
          },
          "execution_count": 260
        }
      ]
    },
    {
      "metadata": {
        "id": "V0N7cGNjk312",
        "colab_type": "text"
      },
      "cell_type": "markdown",
      "source": [
        "### 4. Simulation\n",
        "\n",
        "Based on the optimal allocations $𝑥^∗$ obtained in the two questions above, 𝜇 and 𝛴, please simulate the value of your portfolio after 300 trading days assuming that you have invested $100,000.\n",
        "- Report the mean and the variance of the portfolio in a table\n",
        "- Provide visualizations of your results. "
      ]
    },
    {
      "metadata": {
        "id": "EgymTuwTk313",
        "colab_type": "text"
      },
      "cell_type": "markdown",
      "source": [
        "#### 4.1 Minimizing Risk Simulation"
      ]
    },
    {
      "metadata": {
        "id": "TJgAjsVhk313",
        "colab_type": "code",
        "colab": {
          "base_uri": "https://localhost:8080/",
          "height": 376
        },
        "outputId": "4fb1e2b2-bb94-46e0-b12b-8dffad776d43"
      },
      "cell_type": "code",
      "source": [
        "# Simulation\n",
        "import numpy as np\n",
        "import matplotlib.pyplot as plt\n",
        "simu=500 # I am doing 500 simulations\n",
        "T = 300 # 300 trading days\n",
        "m=6 # I have 5 assets\n",
        "B=100000 # Budget is $100000\n",
        "z_values = []\n",
        "for q in range(simu):\n",
        "    y = np.zeros((T+1,m))\n",
        "    y[0]=[x.value.item(0),x.value.item(1),x.value.item(2),x.value.item(3),x.value.item(4),x.value.item(5)]\n",
        "    for i in range(T):\n",
        "        rr=np.random.multivariate_normal(mu,Cov)\n",
        "        y[i+1]=y[i]*(1+rr)\n",
        "    z_values.append(sum(y[T])*B)\n",
        "\n",
        "plt.hist(z_values, density=True )\n",
        "plt.xlabel('Portfolio')\n",
        "plt.ylabel('Probability')\n",
        "plt.title('Histogram of Returns')\n",
        "plt.show()"
      ],
      "execution_count": 250,
      "outputs": [
        {
          "output_type": "display_data",
          "data": {
            "image/png": "[encoded data removed]",
            "text/plain": [
              "<matplotlib.figure.Figure at 0x7f4039316a90>"
            ]
          },
          "metadata": {
            "tags": []
          }
        }
      ]
    },
    {
      "metadata": {
        "id": "3j55MiWyk315",
        "colab_type": "code",
        "colab": {}
      },
      "cell_type": "code",
      "source": [
        "min_mean = np.mean(z_values)\n",
        "min_var = np.var(z_values)"
      ],
      "execution_count": 0,
      "outputs": []
    },
    {
      "metadata": {
        "id": "o17mUGN8k317",
        "colab_type": "text"
      },
      "cell_type": "markdown",
      "source": [
        "#### 4.2.1 Maximizing Return (Utility) - gamma = 0.10"
      ]
    },
    {
      "metadata": {
        "id": "DH1Axxz5k317",
        "colab_type": "code",
        "colab": {
          "base_uri": "https://localhost:8080/",
          "height": 376
        },
        "outputId": "27eb0e32-10d2-4760-d872-16847e5bd3fd"
      },
      "cell_type": "code",
      "source": [
        "# Simulation\n",
        "import numpy as np\n",
        "import matplotlib.pyplot as plt\n",
        "simu=500 # I am doing 500 simulations\n",
        "T = 300 # 300 trading days\n",
        "m=6 # I have 5 assets\n",
        "B=100000 # Budget is $100000\n",
        "z_values = []\n",
        "for q in range(simu):\n",
        "    y = np.zeros((T+1,m))\n",
        "    y[0]=[res1.x.item(0),res1.x.item(1),res1.x.item(2),res1.x.item(3),res1.x.item(4),res1.x.item(5)]\n",
        "    for i in range(T):\n",
        "        rr=np.random.multivariate_normal(mu,Cov)\n",
        "        y[i+1]=y[i]*(1+rr)\n",
        "    z_values.append(sum(y[T])*B)\n",
        "\n",
        "plt.hist(z_values, density=True )\n",
        "plt.xlabel('Portfolio')\n",
        "plt.ylabel('Probability')\n",
        "plt.title('Histogram of Returns')\n",
        "plt.show()"
      ],
      "execution_count": 252,
      "outputs": [
        {
          "output_type": "display_data",
          "data": {
            "image/png": "[encoded data removed]",
            "text/plain": [
              "<matplotlib.figure.Figure at 0x7f4038fdd0f0>"
            ]
          },
          "metadata": {
            "tags": []
          }
        }
      ]
    },
    {
      "metadata": {
        "id": "3v7HYnGnk318",
        "colab_type": "code",
        "colab": {}
      },
      "cell_type": "code",
      "source": [
        "max_mean1 = np.mean(z_values)\n",
        "max_var1 = np.var(z_values)"
      ],
      "execution_count": 0,
      "outputs": []
    },
    {
      "metadata": {
        "id": "25Hd2_CIk31_",
        "colab_type": "text"
      },
      "cell_type": "markdown",
      "source": [
        "#### 4.2.2 Maximizing Return (Utility) - gamma = 0.15"
      ]
    },
    {
      "metadata": {
        "id": "P14tHouIk32A",
        "colab_type": "code",
        "colab": {
          "base_uri": "https://localhost:8080/",
          "height": 376
        },
        "outputId": "00cfcda3-bec4-4630-c607-7e69308a510e"
      },
      "cell_type": "code",
      "source": [
        "# Simulation\n",
        "import numpy as np\n",
        "import matplotlib.pyplot as plt\n",
        "simu=500 # I am doing 500 simulations\n",
        "T = 300 # 300 trading days\n",
        "m=6 # I have 5 assets\n",
        "B=100000 # Budget is $100000\n",
        "z_values = []\n",
        "for q in range(simu):\n",
        "    y = np.zeros((T+1,m))\n",
        "    y[0]=[res2.x.item(0),res2.x.item(1),res2.x.item(2),res2.x.item(3),res2.x.item(4),res2.x.item(5)]\n",
        "    for i in range(T):\n",
        "        rr=np.random.multivariate_normal(mu,Cov)\n",
        "        y[i+1]=y[i]*(1+rr)\n",
        "    z_values.append(sum(y[T])*B)\n",
        "\n",
        "plt.hist(z_values, density=True )\n",
        "plt.xlabel('Portfolio')\n",
        "plt.ylabel('Probability')\n",
        "plt.title('Histogram of Returns')\n",
        "plt.show()"
      ],
      "execution_count": 254,
      "outputs": [
        {
          "output_type": "display_data",
          "data": {
            "image/png": "[encoded data removed]",
            "text/plain": [
              "<matplotlib.figure.Figure at 0x7f4039316cf8>"
            ]
          },
          "metadata": {
            "tags": []
          }
        }
      ]
    },
    {
      "metadata": {
        "id": "gbFzOr8rk32C",
        "colab_type": "code",
        "colab": {}
      },
      "cell_type": "code",
      "source": [
        "max_mean2 = (np.mean(z_values))\n",
        "max_var2 = (np.var(z_values))"
      ],
      "execution_count": 0,
      "outputs": []
    },
    {
      "metadata": {
        "id": "D4jOaC_tk32D",
        "colab_type": "text"
      },
      "cell_type": "markdown",
      "source": [
        "#### 4.2.3 Maximizing Return (Utility) - gamma = 0.20"
      ]
    },
    {
      "metadata": {
        "id": "qTg4n2gOk32D",
        "colab_type": "code",
        "colab": {
          "base_uri": "https://localhost:8080/",
          "height": 376
        },
        "outputId": "dda51eba-1afe-4849-d08e-6918902ebe37"
      },
      "cell_type": "code",
      "source": [
        "# Simulation\n",
        "import numpy as np\n",
        "import matplotlib.pyplot as plt\n",
        "simu=500 # I am doing 500 simulations\n",
        "T = 300 # 300 trading days\n",
        "m=6 # I have 5 assets\n",
        "B=100000 # Budget is $100000\n",
        "z_values = []\n",
        "for q in range(simu):\n",
        "    y = np.zeros((T+1,m))\n",
        "    y[0]=[res3.x.item(0),res3.x.item(1),res3.x.item(2),res3.x.item(3),res3.x.item(4),res3.x.item(5)]\n",
        "    for i in range(T):\n",
        "        rr=np.random.multivariate_normal(mu,Cov)\n",
        "        y[i+1]=y[i]*(1+rr)\n",
        "    z_values.append(sum(y[T])*B)\n",
        "\n",
        "plt.hist(z_values, density=True )\n",
        "plt.xlabel('Portfolio')\n",
        "plt.ylabel('Probability')\n",
        "plt.title('Histogram of Returns')\n",
        "plt.show()"
      ],
      "execution_count": 256,
      "outputs": [
        {
          "output_type": "display_data",
          "data": {
            "image/png": "[encoded data removed]",
            "text/plain": [
              "<matplotlib.figure.Figure at 0x7f4039734518>"
            ]
          },
          "metadata": {
            "tags": []
          }
        }
      ]
    },
    {
      "metadata": {
        "id": "bjf2wIC7k32G",
        "colab_type": "code",
        "colab": {}
      },
      "cell_type": "code",
      "source": [
        "max_mean3 = (np.mean(z_values))\n",
        "max_var3 = (np.var(z_values))"
      ],
      "execution_count": 0,
      "outputs": []
    },
    {
      "metadata": {
        "id": "vjHL8qwek32J",
        "colab_type": "text"
      },
      "cell_type": "markdown",
      "source": [
        "#### 4.3. Reporting Result\n"
      ]
    },
    {
      "metadata": {
        "id": "bXNYwFBWb5Lf",
        "colab_type": "code",
        "colab": {}
      },
      "cell_type": "code",
      "source": [
        "simulation_mean = np.array([min_mean,max_mean1,max_mean2,max_mean3])\n",
        "simulation_mean = simulation_mean.round(3)\n",
        "simulation_var = np.array([min_var,max_var1,max_var2,max_var3])\n",
        "simulation_var = simulation_var.round(3)"
      ],
      "execution_count": 0,
      "outputs": []
    },
    {
      "metadata": {
        "id": "hQoWg2Ulb7e2",
        "colab_type": "code",
        "colab": {
          "base_uri": "https://localhost:8080/",
          "height": 173
        },
        "outputId": "12f7e470-c472-4436-8a0a-780fb4344805"
      },
      "cell_type": "code",
      "source": [
        "result.loc['potfolio_mean'] = simulation_mean\n",
        "result.loc['potfolio_variance'] =simulation_var\n",
        "result = result.T\n",
        "result"
      ],
      "execution_count": 261,
      "outputs": [
        {
          "output_type": "execute_result",
          "data": {
            "text/html": [
              "<div>\n",
              "<style scoped>\n",
              "    .dataframe tbody tr th:only-of-type {\n",
              "        vertical-align: middle;\n",
              "    }\n",
              "\n",
              "    .dataframe tbody tr th {\n",
              "        vertical-align: top;\n",
              "    }\n",
              "\n",
              "    .dataframe thead th {\n",
              "        text-align: right;\n",
              "    }\n",
              "</style>\n",
              "<table border=\"1\" class=\"dataframe\">\n",
              "  <thead>\n",
              "    <tr style=\"text-align: right;\">\n",
              "      <th></th>\n",
              "      <th>Amazon</th>\n",
              "      <th>Apple</th>\n",
              "      <th>Ebay</th>\n",
              "      <th>Facebook</th>\n",
              "      <th>Google</th>\n",
              "      <th>Twitter</th>\n",
              "      <th>potfolio_mean</th>\n",
              "      <th>potfolio_variance</th>\n",
              "    </tr>\n",
              "  </thead>\n",
              "  <tbody>\n",
              "    <tr>\n",
              "      <th>Minimize_Risk</th>\n",
              "      <td>0.163</td>\n",
              "      <td>0.230</td>\n",
              "      <td>0.147</td>\n",
              "      <td>0.189</td>\n",
              "      <td>0.225</td>\n",
              "      <td>0.046</td>\n",
              "      <td>136310.967</td>\n",
              "      <td>2.086038e+08</td>\n",
              "    </tr>\n",
              "    <tr>\n",
              "      <th>Maximize_Return(gamma = 0.1)</th>\n",
              "      <td>0.220</td>\n",
              "      <td>0.212</td>\n",
              "      <td>0.153</td>\n",
              "      <td>0.179</td>\n",
              "      <td>0.173</td>\n",
              "      <td>0.062</td>\n",
              "      <td>138080.961</td>\n",
              "      <td>2.247288e+08</td>\n",
              "    </tr>\n",
              "    <tr>\n",
              "      <th>Maximize_Return(gamma = 0.15)</th>\n",
              "      <td>0.207</td>\n",
              "      <td>0.206</td>\n",
              "      <td>0.163</td>\n",
              "      <td>0.183</td>\n",
              "      <td>0.181</td>\n",
              "      <td>0.059</td>\n",
              "      <td>138935.756</td>\n",
              "      <td>1.944203e+08</td>\n",
              "    </tr>\n",
              "    <tr>\n",
              "      <th>Maximize_Return(gamma = 0.2)</th>\n",
              "      <td>0.202</td>\n",
              "      <td>0.204</td>\n",
              "      <td>0.168</td>\n",
              "      <td>0.185</td>\n",
              "      <td>0.185</td>\n",
              "      <td>0.057</td>\n",
              "      <td>138090.925</td>\n",
              "      <td>2.129030e+08</td>\n",
              "    </tr>\n",
              "  </tbody>\n",
              "</table>\n",
              "</div>"
            ],
            "text/plain": [
              "                               Amazon  Apple   Ebay  Facebook  Google  \\\n",
              "Minimize_Risk                   0.163  0.230  0.147     0.189   0.225   \n",
              "Maximize_Return(gamma = 0.1)    0.220  0.212  0.153     0.179   0.173   \n",
              "Maximize_Return(gamma = 0.15)   0.207  0.206  0.163     0.183   0.181   \n",
              "Maximize_Return(gamma = 0.2)    0.202  0.204  0.168     0.185   0.185   \n",
              "\n",
              "                               Twitter  potfolio_mean  potfolio_variance  \n",
              "Minimize_Risk                    0.046     136310.967       2.086038e+08  \n",
              "Maximize_Return(gamma = 0.1)     0.062     138080.961       2.247288e+08  \n",
              "Maximize_Return(gamma = 0.15)    0.059     138935.756       1.944203e+08  \n",
              "Maximize_Return(gamma = 0.2)     0.057     138090.925       2.129030e+08  "
            ]
          },
          "metadata": {
            "tags": []
          },
          "execution_count": 261
        }
      ]
    },
    {
      "metadata": {
        "id": "MUQbVjhhk32J",
        "colab_type": "text"
      },
      "cell_type": "markdown",
      "source": [
        "### 5. Recommendations\n",
        "- a. Explain the different allocations, i.e., why they are different.\n",
        "- b. What should an investor with risk aversion $\\gamma$ = 0.1 do? What about investors with\n",
        "$\\gamma$ = 0.15 and $\\gamma$ = 0.2?\n",
        "- c. Why are the allocations different?"
      ]
    },
    {
      "metadata": {
        "id": "wtFBzULodple",
        "colab_type": "text"
      },
      "cell_type": "markdown",
      "source": [
        "\n",
        "a. With mu = [0.0014643 , 0.00126081, 0.00080563, 0.00098042, 0.0008732 , 0.00150318] and var = [0.00023009, 0.00013972, 0.00023675, 0.00015857, 0.00012249,\n",
        "       0.00100392], it means:\n",
        "\n",
        "**For average return: Twitter>Amazon>Apple>Facebook>Google>Ebay**\n",
        "\n",
        "\n",
        "**For variance: Twitter>Ebay>Amazon>Facebook>Apple>Google**\n",
        "\n",
        "- Twitter has highest average return rate (much higher than the rest) and Ebay has lowest return; Twitter is most volatile and Google is the most stable.\n",
        "\n",
        "For Investors:\n",
        "\n",
        "There are four different kind of investors - Minimize_Risk, Maximize_Return(gamma = 0.1), Maximize_Return(gamma = 0.15) and Maximize_Return(gamma =0.20).\n",
        "\n",
        "**Minimize_risk type of investor:**\n",
        "\n",
        "The theory is that they want to avoid risk as much as possible, and it could possible lead to low return as well.The portfolio proves the theory with the lowest return and the second-lowest variance. Since Twitter has the highest variance and highest return, they definitely want to avoid Twitter, and Twitter is only 4.6%. of the portfolio. Since Apple and Google being the lowest variance, the portfolio has the high position on both Apple(23%) and Google(22.5%)\n",
        "\n",
        "**Maximize_return type of investor**\n",
        "\n",
        "Since gamma is the risk aversion parameter, which means that the higher the risk averse (the gamma value), the more likely the investor would be willing to accept lower return portfolio as long as the portfolio has lower variance. However, in the case of this dataset, it is interesting that when gamma = 0.15(medium risk aversion), it has the highest return and lowest variance.  \n",
        "\n",
        "\n",
        "\n",
        "\n",
        "\n",
        "b. \n",
        "**Investor with risk aversion γ=0.1 :**\n",
        "\n",
        "He or she is the least risk averse and should choose stock with high risk and high return, which means they should invest in more Twitter, Amazon, Apple and Facebook, which are the top four return stocks. However, since the Twitter is extremely volatile, the portfolio recommends only take 6.2% of the Twitter stock since the Twitter stock's risk might outweigh the return.\n",
        "\n",
        "**Investor with risk aversion γ=0.15 :**\n",
        "\n",
        "He or she is the medium risk averse type and should choose stock with medium risk even when chasing for high return, which means that they should convert some of their high risk high return stocks to lower risk and slightly lower return stocks, which means that he or she should reduce the positions in Aamzon and Twitter.\n",
        "\n",
        "**Investor with risk aversion γ=0.20 :**\n",
        "\n",
        "He or she is the most risk averse type and should choose stock with low risk even when chasing for high return, which means that they should convert more of their high risk high return stocks to lower risk and lower return stocks. For example, they should reducde their positions in Amazon and Twitter and increase their positions in Google and Facebook(low variance)\n",
        "\n",
        "c.\n",
        "The change in allocation happend because the risk-aversion factor changes. The more risk-aversion, the more likely that the investor reduce positions of high risk stocks and increase positions of low variance stocks. Althought it might reduce the potential returns, the investors prefer safer choice.\n"
      ]
    },
    {
      "metadata": {
        "id": "QLR0CDiDdpai",
        "colab_type": "text"
      },
      "cell_type": "markdown",
      "source": [
        ""
      ]
    }
  ]
}