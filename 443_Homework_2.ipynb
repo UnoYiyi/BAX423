{
  "nbformat": 4,
  "nbformat_minor": 0,
  "metadata": {
    "colab": {
      "name": "443 Homework 2.ipynb",
      "version": "0.3.2",
      "provenance": []
    },
    "kernelspec": {
      "display_name": "Python 3",
      "language": "python",
      "name": "python3"
    }
  },
  "cells": [
    {
      "cell_type": "markdown",
      "metadata": {
        "id": "view-in-github",
        "colab_type": "text"
      },
      "source": [
        "[View in Colaboratory](https://colab.research.google.com/github/UnoYiyi/BAX423/blob/master/443_Homework_2.ipynb)"
      ]
    },
    {
      "metadata": {
        "id": "7Uqd_wmwk3zn",
        "colab_type": "text"
      },
      "cell_type": "markdown",
      "source": [
        "## Part A: Portfolio Optimization based on the Full Data Set"
      ]
    },
    {
      "metadata": {
        "id": "tRF7Zd6Tk3zp",
        "colab_type": "text"
      },
      "cell_type": "markdown",
      "source": [
        "### 1. Prepare the dataset\n",
        "\n",
        "#### A. Based on the dataset, compute the rate of returns for each stock, i.e.,\n",
        "\n",
        "$$r_{it} = \\frac{I_{i,t} - I_{i,t-1}}{I_{i,t-1}}$$\n",
        "\n",
        "where $I_{i,t}$ is the raw data from stock i at time t.\n"
      ]
    },
    {
      "metadata": {
        "id": "y6RU1UKzlPRk",
        "colab_type": "code",
        "colab": {
          "base_uri": "https://localhost:8080/",
          "height": 224
        },
        "outputId": "56b9ebce-982f-4eee-c5c5-f707bf6308cf"
      },
      "cell_type": "code",
      "source": [
        "!pip install cvxpy==0.4.11"
      ],
      "execution_count": 6,
      "outputs": [
        {
          "output_type": "stream",
          "text": [
            "Requirement already satisfied: cvxpy==0.4.11 in /usr/local/lib/python3.6/dist-packages (0.4.11)\r\n",
            "Requirement already satisfied: numpy>=1.9 in /usr/local/lib/python3.6/dist-packages (from cvxpy==0.4.11) (1.14.3)\r\n",
            "Requirement already satisfied: scipy>=0.15 in /usr/local/lib/python3.6/dist-packages (from cvxpy==0.4.11) (0.19.1)\r\n",
            "Requirement already satisfied: ecos>=2 in /usr/local/lib/python3.6/dist-packages (from cvxpy==0.4.11) (2.0.5)\r\n",
            "Requirement already satisfied: six in /usr/local/lib/python3.6/dist-packages (from cvxpy==0.4.11) (1.11.0)\r\n",
            "Requirement already satisfied: scs>=1.1.3 in /usr/local/lib/python3.6/dist-packages (from cvxpy==0.4.11) (2.0.2)\r\n",
            "Requirement already satisfied: fastcache in /usr/local/lib/python3.6/dist-packages (from cvxpy==0.4.11) (1.0.2)\n",
            "Requirement already satisfied: multiprocess in /usr/local/lib/python3.6/dist-packages (from cvxpy==0.4.11) (0.70.5)\n",
            "Requirement already satisfied: toolz in /usr/local/lib/python3.6/dist-packages (from cvxpy==0.4.11) (0.9.0)\n",
            "Requirement already satisfied: CVXcanon>=0.0.22 in /usr/local/lib/python3.6/dist-packages (from cvxpy==0.4.11) (0.1.1)\n",
            "Requirement already satisfied: dill>=0.2.6 in /usr/local/lib/python3.6/dist-packages (from multiprocess->cvxpy==0.4.11) (0.2.7.1)\n"
          ],
          "name": "stdout"
        }
      ]
    },
    {
      "metadata": {
        "id": "XYM3xIHgk3zp",
        "colab_type": "code",
        "colab": {}
      },
      "cell_type": "code",
      "source": [
        "# import library\n",
        "import numpy as np\n",
        "import math\n",
        "import cvxpy as cvx\n",
        "from numpy import matrix \n",
        "from cvxpy import *\n",
        "import matplotlib.pyplot as plt\n",
        "import pandas as pd\n",
        "from scipy import stats\n",
        "import scipy"
      ],
      "execution_count": 0,
      "outputs": []
    },
    {
      "metadata": {
        "id": "n_dxFloKnlgH",
        "colab_type": "code",
        "colab": {
          "base_uri": "https://localhost:8080/",
          "height": 122
        },
        "outputId": "467b317c-7903-4787-f6bb-c9c8a56d9270"
      },
      "cell_type": "code",
      "source": [
        "!pip install xlrd"
      ],
      "execution_count": 14,
      "outputs": [
        {
          "output_type": "stream",
          "text": [
            "Collecting xlrd\n",
            "\u001b[?25l  Downloading https://files.pythonhosted.org/packages/07/e6/e95c4eec6221bfd8528bcc4ea252a850bffcc4be88ebc367e23a1a84b0bb/xlrd-1.1.0-py2.py3-none-any.whl (108kB)\n",
            "\u001b[K    100% |████████████████████████████████| 112kB 4.5MB/s \n",
            "\u001b[?25hInstalling collected packages: xlrd\n",
            "Successfully installed xlrd-1.1.0\n"
          ],
          "name": "stdout"
        }
      ]
    },
    {
      "metadata": {
        "id": "mfRqi09Nk3zt",
        "colab_type": "code",
        "colab": {
          "resources": {
            "http://localhost:8080/nbextensions/google.colab/files.js": {
              "data": "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",
              "ok": true,
              "headers": [
                [
                  "content-type",
                  "application/javascript"
                ]
              ],
              "status": 200,
              "status_text": ""
            }
          },
          "base_uri": "https://localhost:8080/",
          "height": 256
        },
        "outputId": "44b246d7-269a-4554-c826-a60610dff108"
      },
      "cell_type": "code",
      "source": [
        "# import dataset\n",
        "from google.colab import files\n",
        "files.upload()\n",
        "df = pd.read_excel(\"./datahomework2.xls\")\n",
        "df.head()"
      ],
      "execution_count": 15,
      "outputs": [
        {
          "output_type": "display_data",
          "data": {
            "text/html": [
              "\n",
              "     <input type=\"file\" id=\"files-e1523941-b74f-4536-a0ee-3fcf108c986a\" name=\"files[]\" multiple disabled />\n",
              "     <output id=\"result-e1523941-b74f-4536-a0ee-3fcf108c986a\">\n",
              "      Upload widget is only available when the cell has been executed in the\n",
              "      current browser session. Please rerun this cell to enable.\n",
              "      </output>\n",
              "      <script src=\"/nbextensions/google.colab/files.js\"></script> "
            ],
            "text/plain": [
              "<IPython.core.display.HTML object>"
            ]
          },
          "metadata": {
            "tags": []
          }
        },
        {
          "output_type": "stream",
          "text": [
            "Saving datahomework2.xls to datahomework2 (4).xls\n"
          ],
          "name": "stdout"
        },
        {
          "output_type": "execute_result",
          "data": {
            "text/html": [
              "<div>\n",
              "<style scoped>\n",
              "    .dataframe tbody tr th:only-of-type {\n",
              "        vertical-align: middle;\n",
              "    }\n",
              "\n",
              "    .dataframe tbody tr th {\n",
              "        vertical-align: top;\n",
              "    }\n",
              "\n",
              "    .dataframe thead th {\n",
              "        text-align: right;\n",
              "    }\n",
              "</style>\n",
              "<table border=\"1\" class=\"dataframe\">\n",
              "  <thead>\n",
              "    <tr style=\"text-align: right;\">\n",
              "      <th></th>\n",
              "      <th>Amazon</th>\n",
              "      <th>Apple</th>\n",
              "      <th>Ebay</th>\n",
              "      <th>Facebook</th>\n",
              "      <th>Google</th>\n",
              "      <th>Twitter</th>\n",
              "    </tr>\n",
              "  </thead>\n",
              "  <tbody>\n",
              "    <tr>\n",
              "      <th>0</th>\n",
              "      <td>252.585</td>\n",
              "      <td>106.250000</td>\n",
              "      <td>23.457600</td>\n",
              "      <td>77.190002</td>\n",
              "      <td>519.500000</td>\n",
              "      <td>36.380001</td>\n",
              "    </tr>\n",
              "    <tr>\n",
              "      <th>1</th>\n",
              "      <td>245.488</td>\n",
              "      <td>106.260002</td>\n",
              "      <td>23.156700</td>\n",
              "      <td>76.150002</td>\n",
              "      <td>506.600006</td>\n",
              "      <td>37.279999</td>\n",
              "    </tr>\n",
              "    <tr>\n",
              "      <th>2</th>\n",
              "      <td>253.816</td>\n",
              "      <td>107.750000</td>\n",
              "      <td>23.116699</td>\n",
              "      <td>76.150002</td>\n",
              "      <td>505.200012</td>\n",
              "      <td>39.090000</td>\n",
              "    </tr>\n",
              "    <tr>\n",
              "      <th>3</th>\n",
              "      <td>256.030</td>\n",
              "      <td>111.889999</td>\n",
              "      <td>23.741699</td>\n",
              "      <td>78.175003</td>\n",
              "      <td>506.899994</td>\n",
              "      <td>40.169998</td>\n",
              "    </tr>\n",
              "    <tr>\n",
              "      <th>4</th>\n",
              "      <td>253.299</td>\n",
              "      <td>112.010002</td>\n",
              "      <td>23.413401</td>\n",
              "      <td>77.739998</td>\n",
              "      <td>500.700012</td>\n",
              "      <td>39.369999</td>\n",
              "    </tr>\n",
              "  </tbody>\n",
              "</table>\n",
              "</div>"
            ],
            "text/plain": [
              "    Amazon       Apple       Ebay   Facebook      Google    Twitter\n",
              "0  252.585  106.250000  23.457600  77.190002  519.500000  36.380001\n",
              "1  245.488  106.260002  23.156700  76.150002  506.600006  37.279999\n",
              "2  253.816  107.750000  23.116699  76.150002  505.200012  39.090000\n",
              "3  256.030  111.889999  23.741699  78.175003  506.899994  40.169998\n",
              "4  253.299  112.010002  23.413401  77.739998  500.700012  39.369999"
            ]
          },
          "metadata": {
            "tags": []
          },
          "execution_count": 15
        }
      ]
    },
    {
      "metadata": {
        "id": "XTjA0SWCk3zy",
        "colab_type": "code",
        "colab": {
          "base_uri": "https://localhost:8080/",
          "height": 204
        },
        "outputId": "b816ae3b-ddcb-4f00-b1cc-680ee2bcd3cb"
      },
      "cell_type": "code",
      "source": [
        "# calculate the rate of returns for each stock\n",
        "rr =  df.pct_change()\n",
        "rr.head()"
      ],
      "execution_count": 16,
      "outputs": [
        {
          "output_type": "execute_result",
          "data": {
            "text/html": [
              "<div>\n",
              "<style scoped>\n",
              "    .dataframe tbody tr th:only-of-type {\n",
              "        vertical-align: middle;\n",
              "    }\n",
              "\n",
              "    .dataframe tbody tr th {\n",
              "        vertical-align: top;\n",
              "    }\n",
              "\n",
              "    .dataframe thead th {\n",
              "        text-align: right;\n",
              "    }\n",
              "</style>\n",
              "<table border=\"1\" class=\"dataframe\">\n",
              "  <thead>\n",
              "    <tr style=\"text-align: right;\">\n",
              "      <th></th>\n",
              "      <th>Amazon</th>\n",
              "      <th>Apple</th>\n",
              "      <th>Ebay</th>\n",
              "      <th>Facebook</th>\n",
              "      <th>Google</th>\n",
              "      <th>Twitter</th>\n",
              "    </tr>\n",
              "  </thead>\n",
              "  <tbody>\n",
              "    <tr>\n",
              "      <th>0</th>\n",
              "      <td>NaN</td>\n",
              "      <td>NaN</td>\n",
              "      <td>NaN</td>\n",
              "      <td>NaN</td>\n",
              "      <td>NaN</td>\n",
              "      <td>NaN</td>\n",
              "    </tr>\n",
              "    <tr>\n",
              "      <th>1</th>\n",
              "      <td>-0.028097</td>\n",
              "      <td>0.000094</td>\n",
              "      <td>-0.012827</td>\n",
              "      <td>-0.013473</td>\n",
              "      <td>-0.024832</td>\n",
              "      <td>0.024739</td>\n",
              "    </tr>\n",
              "    <tr>\n",
              "      <th>2</th>\n",
              "      <td>0.033924</td>\n",
              "      <td>0.014022</td>\n",
              "      <td>-0.001727</td>\n",
              "      <td>0.000000</td>\n",
              "      <td>-0.002764</td>\n",
              "      <td>0.048552</td>\n",
              "    </tr>\n",
              "    <tr>\n",
              "      <th>3</th>\n",
              "      <td>0.008723</td>\n",
              "      <td>0.038422</td>\n",
              "      <td>0.027037</td>\n",
              "      <td>0.026592</td>\n",
              "      <td>0.003365</td>\n",
              "      <td>0.027628</td>\n",
              "    </tr>\n",
              "    <tr>\n",
              "      <th>4</th>\n",
              "      <td>-0.010667</td>\n",
              "      <td>0.001073</td>\n",
              "      <td>-0.013828</td>\n",
              "      <td>-0.005565</td>\n",
              "      <td>-0.012231</td>\n",
              "      <td>-0.019915</td>\n",
              "    </tr>\n",
              "  </tbody>\n",
              "</table>\n",
              "</div>"
            ],
            "text/plain": [
              "     Amazon     Apple      Ebay  Facebook    Google   Twitter\n",
              "0       NaN       NaN       NaN       NaN       NaN       NaN\n",
              "1 -0.028097  0.000094 -0.012827 -0.013473 -0.024832  0.024739\n",
              "2  0.033924  0.014022 -0.001727  0.000000 -0.002764  0.048552\n",
              "3  0.008723  0.038422  0.027037  0.026592  0.003365  0.027628\n",
              "4 -0.010667  0.001073 -0.013828 -0.005565 -0.012231 -0.019915"
            ]
          },
          "metadata": {
            "tags": []
          },
          "execution_count": 16
        }
      ]
    },
    {
      "metadata": {
        "id": "5BE5jaDzk3z1",
        "colab_type": "text"
      },
      "cell_type": "markdown",
      "source": [
        "\n",
        "\n",
        "\n",
        "#### B. Based on the data set, compute the average returns that will be used for the optimization, i.e.,\n",
        "\n",
        "$$\\mu_{i} = \\displaystyle\\sum_{t=1}^T (1+r_{it})^\\frac{1}{T} - 1 $$\n",
        "Hint: the term $\\displaystyle\\sum_{t=1}^T (1+r_{it})^\\frac{1}{T}$ is a geometric mean"
      ]
    },
    {
      "metadata": {
        "id": "7dhsdQGFk3z2",
        "colab_type": "code",
        "colab": {
          "base_uri": "https://localhost:8080/",
          "height": 204
        },
        "outputId": "855ba75b-5b97-451a-c835-2dc95cdefefa"
      },
      "cell_type": "code",
      "source": [
        "# remove the NAN value and add 1 to all values \n",
        "rr1 = rr[1:] # rr1 is average returns without NANs\n",
        "rr2 = rr1 + 1 #rr2 is average returns +1\n",
        "rr2.head()"
      ],
      "execution_count": 17,
      "outputs": [
        {
          "output_type": "execute_result",
          "data": {
            "text/html": [
              "<div>\n",
              "<style scoped>\n",
              "    .dataframe tbody tr th:only-of-type {\n",
              "        vertical-align: middle;\n",
              "    }\n",
              "\n",
              "    .dataframe tbody tr th {\n",
              "        vertical-align: top;\n",
              "    }\n",
              "\n",
              "    .dataframe thead th {\n",
              "        text-align: right;\n",
              "    }\n",
              "</style>\n",
              "<table border=\"1\" class=\"dataframe\">\n",
              "  <thead>\n",
              "    <tr style=\"text-align: right;\">\n",
              "      <th></th>\n",
              "      <th>Amazon</th>\n",
              "      <th>Apple</th>\n",
              "      <th>Ebay</th>\n",
              "      <th>Facebook</th>\n",
              "      <th>Google</th>\n",
              "      <th>Twitter</th>\n",
              "    </tr>\n",
              "  </thead>\n",
              "  <tbody>\n",
              "    <tr>\n",
              "      <th>1</th>\n",
              "      <td>0.971903</td>\n",
              "      <td>1.000094</td>\n",
              "      <td>0.987173</td>\n",
              "      <td>0.986527</td>\n",
              "      <td>0.975168</td>\n",
              "      <td>1.024739</td>\n",
              "    </tr>\n",
              "    <tr>\n",
              "      <th>2</th>\n",
              "      <td>1.033924</td>\n",
              "      <td>1.014022</td>\n",
              "      <td>0.998273</td>\n",
              "      <td>1.000000</td>\n",
              "      <td>0.997236</td>\n",
              "      <td>1.048552</td>\n",
              "    </tr>\n",
              "    <tr>\n",
              "      <th>3</th>\n",
              "      <td>1.008723</td>\n",
              "      <td>1.038422</td>\n",
              "      <td>1.027037</td>\n",
              "      <td>1.026592</td>\n",
              "      <td>1.003365</td>\n",
              "      <td>1.027628</td>\n",
              "    </tr>\n",
              "    <tr>\n",
              "      <th>4</th>\n",
              "      <td>0.989333</td>\n",
              "      <td>1.001073</td>\n",
              "      <td>0.986172</td>\n",
              "      <td>0.994435</td>\n",
              "      <td>0.987769</td>\n",
              "      <td>0.980085</td>\n",
              "    </tr>\n",
              "    <tr>\n",
              "      <th>5</th>\n",
              "      <td>0.971540</td>\n",
              "      <td>0.975359</td>\n",
              "      <td>0.992274</td>\n",
              "      <td>0.986879</td>\n",
              "      <td>0.992810</td>\n",
              "      <td>1.007112</td>\n",
              "    </tr>\n",
              "  </tbody>\n",
              "</table>\n",
              "</div>"
            ],
            "text/plain": [
              "     Amazon     Apple      Ebay  Facebook    Google   Twitter\n",
              "1  0.971903  1.000094  0.987173  0.986527  0.975168  1.024739\n",
              "2  1.033924  1.014022  0.998273  1.000000  0.997236  1.048552\n",
              "3  1.008723  1.038422  1.027037  1.026592  1.003365  1.027628\n",
              "4  0.989333  1.001073  0.986172  0.994435  0.987769  0.980085\n",
              "5  0.971540  0.975359  0.992274  0.986879  0.992810  1.007112"
            ]
          },
          "metadata": {
            "tags": []
          },
          "execution_count": 17
        }
      ]
    },
    {
      "metadata": {
        "id": "FUsIXOVPk3z4",
        "colab_type": "code",
        "colab": {
          "base_uri": "https://localhost:8080/",
          "height": 51
        },
        "outputId": "5c436f1d-caf5-4885-b4f9-077974b2b9b6"
      },
      "cell_type": "code",
      "source": [
        "# calculate the average returns using gmean\n",
        "mu = scipy.stats.gmean(rr2) -1\n",
        "mu"
      ],
      "execution_count": 18,
      "outputs": [
        {
          "output_type": "execute_result",
          "data": {
            "text/plain": [
              "array([ 1.98778605e-03,  6.25712685e-04,  7.54726158e-04,  1.08819147e-03,\n",
              "        9.73603071e-04, -2.78636077e-05])"
            ]
          },
          "metadata": {
            "tags": []
          },
          "execution_count": 18
        }
      ]
    },
    {
      "metadata": {
        "id": "vg1Ltq0ek3z7",
        "colab_type": "text"
      },
      "cell_type": "markdown",
      "source": [
        "#### C. Based on the data set, compute the variance-covariance matrix of the stock returns, i.e.,\n",
        "\n",
        "$$CoVar(r_{i},r_{j}) = \\frac{1}{T}\\displaystyle\\sum_{t=1}^{T} (r_{it}-\\bar{r_{it}})(r_{jt} -\\bar{r_{jt}})-1$$\n",
        "\n",
        "Hint: the term $\\displaystyle\\sum_{t=1}^{T} (r_{it}-\\bar{r_{it}})(r_{jt} -\\bar{r_{jt}})$ is a geometric mean"
      ]
    },
    {
      "metadata": {
        "id": "Wuo77CtBk3z8",
        "colab_type": "code",
        "colab": {
          "base_uri": "https://localhost:8080/",
          "height": 221
        },
        "outputId": "eaa5ba33-c37b-4371-ce97-199ccbf81dd0"
      },
      "cell_type": "code",
      "source": [
        "# calculate the variance-covariance matrix of the stock returns\n",
        "Cov = np.cov(rr1, rowvar =False) \n",
        "Cov\n",
        "## If rowvar is True (default), then each row represents a variable, \n",
        "## with observations in the columns. Otherwise, the relationship is \n",
        "## transposed: each column represents a variable, while the rows \n",
        "## contain observations. "
      ],
      "execution_count": 19,
      "outputs": [
        {
          "output_type": "execute_result",
          "data": {
            "text/plain": [
              "array([[ 4.07197383e-04,  4.60871516e-06,  1.22772826e-05,\n",
              "        -1.05667569e-05,  6.56723220e-06, -9.50143600e-05],\n",
              "       [ 4.60871516e-06,  2.10803738e-04,  5.99369392e-05,\n",
              "         6.94486102e-05,  6.00972703e-05,  4.03675884e-05],\n",
              "       [ 1.22772826e-05,  5.99369392e-05,  2.92036867e-04,\n",
              "         2.71083410e-05,  5.45848998e-05,  2.43589545e-05],\n",
              "       [-1.05667569e-05,  6.94486102e-05,  2.71083410e-05,\n",
              "         2.42364043e-04,  9.89613223e-05,  2.19275123e-05],\n",
              "       [ 6.56723220e-06,  6.00972703e-05,  5.45848998e-05,\n",
              "         9.89613223e-05,  2.02842223e-04,  9.65658924e-06],\n",
              "       [-9.50143600e-05,  4.03675884e-05,  2.43589545e-05,\n",
              "         2.19275123e-05,  9.65658924e-06,  1.07122641e-03]])"
            ]
          },
          "metadata": {
            "tags": []
          },
          "execution_count": 19
        }
      ]
    },
    {
      "metadata": {
        "id": "x8y6xtxtk3z-",
        "colab_type": "text"
      },
      "cell_type": "markdown",
      "source": [
        "#### D. Provide the vector $\\mu$ and the variance-covariance matrix $\\Sigma$ for the 6 assets considered"
      ]
    },
    {
      "metadata": {
        "id": "paeyjsT-k3z_",
        "colab_type": "code",
        "colab": {
          "base_uri": "https://localhost:8080/",
          "height": 51
        },
        "outputId": "fc8f8a2e-9809-479f-bffb-e38952965073"
      },
      "cell_type": "code",
      "source": [
        "# the vector mu \n",
        "mu"
      ],
      "execution_count": 20,
      "outputs": [
        {
          "output_type": "execute_result",
          "data": {
            "text/plain": [
              "array([ 1.98778605e-03,  6.25712685e-04,  7.54726158e-04,  1.08819147e-03,\n",
              "        9.73603071e-04, -2.78636077e-05])"
            ]
          },
          "metadata": {
            "tags": []
          },
          "execution_count": 20
        }
      ]
    },
    {
      "metadata": {
        "id": "J7ryfJzXk30C",
        "colab_type": "code",
        "colab": {}
      },
      "cell_type": "code",
      "source": [
        "mu_matrix = matrix(mu)"
      ],
      "execution_count": 0,
      "outputs": []
    },
    {
      "metadata": {
        "id": "imAuHuUck30E",
        "colab_type": "code",
        "colab": {
          "base_uri": "https://localhost:8080/",
          "height": 221
        },
        "outputId": "89785399-ec95-41d0-d521-db094625ce6b"
      },
      "cell_type": "code",
      "source": [
        "# the variance-covariance matrix Sigma\n",
        "Cov"
      ],
      "execution_count": 22,
      "outputs": [
        {
          "output_type": "execute_result",
          "data": {
            "text/plain": [
              "array([[ 4.07197383e-04,  4.60871516e-06,  1.22772826e-05,\n",
              "        -1.05667569e-05,  6.56723220e-06, -9.50143600e-05],\n",
              "       [ 4.60871516e-06,  2.10803738e-04,  5.99369392e-05,\n",
              "         6.94486102e-05,  6.00972703e-05,  4.03675884e-05],\n",
              "       [ 1.22772826e-05,  5.99369392e-05,  2.92036867e-04,\n",
              "         2.71083410e-05,  5.45848998e-05,  2.43589545e-05],\n",
              "       [-1.05667569e-05,  6.94486102e-05,  2.71083410e-05,\n",
              "         2.42364043e-04,  9.89613223e-05,  2.19275123e-05],\n",
              "       [ 6.56723220e-06,  6.00972703e-05,  5.45848998e-05,\n",
              "         9.89613223e-05,  2.02842223e-04,  9.65658924e-06],\n",
              "       [-9.50143600e-05,  4.03675884e-05,  2.43589545e-05,\n",
              "         2.19275123e-05,  9.65658924e-06,  1.07122641e-03]])"
            ]
          },
          "metadata": {
            "tags": []
          },
          "execution_count": 22
        }
      ]
    },
    {
      "metadata": {
        "id": "5aBoA0F-k30G",
        "colab_type": "text"
      },
      "cell_type": "markdown",
      "source": [
        "### 2. Portfolio Optimization: Minimizing Risk\n",
        "\n",
        "What is the allocation x = {x1,x2,x3,x4,x5,x6} that solve the following problem\n",
        "\n",
        "$$Minimize\\frac{1}{2}x^{T}\\sum x$$\n",
        "\n",
        "Subject to\n",
        "\n",
        "$$\\mu^{T}x \\geq R \\\\\n",
        "\\displaystyle \\sum_{i=1}^{6} x_{i} = 1 \\\\\n",
        "x \\geq 0$$\n",
        "\n",
        "where R is the annual return that the investor wants to achieve, with R = 0.07"
      ]
    },
    {
      "metadata": {
        "id": "411AJYFek30H",
        "colab_type": "code",
        "colab": {
          "base_uri": "https://localhost:8080/",
          "height": 119
        },
        "outputId": "b170978b-4fbe-4801-b9bf-bada8e37ef20"
      },
      "cell_type": "code",
      "source": [
        "R=0.07/252 ##there are 252 trading days in a year\n",
        "\n",
        "x=cvx.Variable(6)\n",
        "\n",
        "# Solution\n",
        "# prob = cvs.Problem(objective, C)\n",
        "# result = prob.solve()\n",
        "# Prob 1\n",
        "risk=0.5 * quad_form(x, Cov)\n",
        "rr=sum_entries(mu*x)\n",
        "prob1 = Problem(Minimize(risk ), \n",
        "               [rr>=R,sum_entries(x) == 1, \n",
        "                x >= 0])\n",
        "prob1.solve()\n",
        "print(x.value)\n",
        "x_min = x.value"
      ],
      "execution_count": 23,
      "outputs": [
        {
          "output_type": "stream",
          "text": [
            "[[0.2042415 ]\n",
            " [0.19551309]\n",
            " [0.16170077]\n",
            " [0.17376282]\n",
            " [0.18986907]\n",
            " [0.07491276]]\n"
          ],
          "name": "stdout"
        }
      ]
    },
    {
      "metadata": {
        "id": "5TPDSgUUk30K",
        "colab_type": "text"
      },
      "cell_type": "markdown",
      "source": [
        "### 3. Portfolio Optimization: Maximizing Returns (or Utility)\n",
        "\n",
        "Another approach to portfolio optimization is to optimize the expected returns that the portfolio would give while penalizing for volatility (variance). Specifically, what is the allocation 𝑥 = {𝑥1, 𝑥2, 𝑥3, 𝑥4, 𝑥5, 𝑥6} that solve the following optimization problem\n",
        "\n",
        "$$ Maximize\\mu^{T}x - \\gamma \\sqrt{(x^{T}\\Sigma x)}$$\n",
        "\n",
        "Subject to \n",
        "$$\\sum_{i=1}^{6}x_{i} = 1 \\\\\n",
        "x \\geq 0$$\n",
        "\n",
        "where $\\gamma$ is the risk aversion coefficient of the investor. Report the optimal allocations for $\\gamma$ = 0.1, $\\gamma$ = 0.15, $\\gamma$ = 0.2, as well as the value of the objective function "
      ]
    },
    {
      "metadata": {
        "id": "oqwo03QUk30L",
        "colab_type": "text"
      },
      "cell_type": "markdown",
      "source": [
        "#### 3.1 gamma = 0.1"
      ]
    },
    {
      "metadata": {
        "id": "MuYLrfmAk30L",
        "colab_type": "code",
        "colab": {}
      },
      "cell_type": "code",
      "source": [
        "import numpy as np\n",
        "from scipy.optimize import minimize"
      ],
      "execution_count": 0,
      "outputs": []
    },
    {
      "metadata": {
        "id": "5j0zed4ek30O",
        "colab_type": "code",
        "colab": {}
      },
      "cell_type": "code",
      "source": [
        "##define constraint\n",
        "## first step - define bounds\n",
        "bounds = ([0,None],[0,None],[0,None],[0,None],[0,None],[0,None])"
      ],
      "execution_count": 0,
      "outputs": []
    },
    {
      "metadata": {
        "id": "eAVzCayfk30P",
        "colab_type": "code",
        "colab": {}
      },
      "cell_type": "code",
      "source": [
        "## second step - the equality constraint\n",
        "def con(x):\n",
        "    return x[0]+x[1]+x[2]+x[3]+x[4]+x[5]-1\n",
        "cons = {'type':'eq',\n",
        "        'fun':con}"
      ],
      "execution_count": 0,
      "outputs": []
    },
    {
      "metadata": {
        "id": "02ONgiD-k30R",
        "colab_type": "code",
        "colab": {}
      },
      "cell_type": "code",
      "source": [
        "gamma1 = 0.1\n",
        "def returnfunc(x):\n",
        "    return -(x.T * mu_matrix.T-gamma1*np.sqrt(np.dot(np.dot(x.T,Cov),x)))"
      ],
      "execution_count": 0,
      "outputs": []
    },
    {
      "metadata": {
        "id": "j7FFaS1Qk30U",
        "colab_type": "code",
        "colab": {
          "base_uri": "https://localhost:8080/",
          "height": 51
        },
        "outputId": "e2a981e1-8d5e-49fd-9b9e-1c5e07f38705"
      },
      "cell_type": "code",
      "source": [
        "x0 = np.matrix('0 0 0 0 0 0 ')\n",
        "print(x0)\n",
        "x0.shape"
      ],
      "execution_count": 28,
      "outputs": [
        {
          "output_type": "stream",
          "text": [
            "[[0 0 0 0 0 0]]\n"
          ],
          "name": "stdout"
        },
        {
          "output_type": "execute_result",
          "data": {
            "text/plain": [
              "(1, 6)"
            ]
          },
          "metadata": {
            "tags": []
          },
          "execution_count": 28
        }
      ]
    },
    {
      "metadata": {
        "id": "b6w7p3Syk30X",
        "colab_type": "code",
        "colab": {
          "base_uri": "https://localhost:8080/",
          "height": 34
        },
        "outputId": "a5de736a-67e2-44c6-8e4f-e0a9825c20cf"
      },
      "cell_type": "code",
      "source": [
        "mu_matrix.T.shape"
      ],
      "execution_count": 29,
      "outputs": [
        {
          "output_type": "execute_result",
          "data": {
            "text/plain": [
              "(6, 1)"
            ]
          },
          "metadata": {
            "tags": []
          },
          "execution_count": 29
        }
      ]
    },
    {
      "metadata": {
        "id": "59cpaQMGk30a",
        "colab_type": "code",
        "colab": {}
      },
      "cell_type": "code",
      "source": [
        "res1 = scipy.optimize.minimize(\n",
        "    returnfunc,\n",
        "    x0,\n",
        "    constraints=(\n",
        "        {'type':'eq','fun':lambda x:x[0]+x[1]+x[2]+x[3]+x[4]+x[5]-1}\n",
        "    ),\n",
        "    bounds=((0,None),(0,None),(0,None),(0,None),(0,None),(0,None)),\n",
        ")"
      ],
      "execution_count": 0,
      "outputs": []
    },
    {
      "metadata": {
        "id": "8lbFpKjtk30b",
        "colab_type": "code",
        "colab": {
          "base_uri": "https://localhost:8080/",
          "height": 51
        },
        "outputId": "30448465-1b9f-497c-8e68-d91d57ecbe7a"
      },
      "cell_type": "code",
      "source": [
        "res1.x"
      ],
      "execution_count": 31,
      "outputs": [
        {
          "output_type": "execute_result",
          "data": {
            "text/plain": [
              "array([0.2967567 , 0.15516683, 0.16262145, 0.19664587, 0.18880915,\n",
              "       0.        ])"
            ]
          },
          "metadata": {
            "tags": []
          },
          "execution_count": 31
        }
      ]
    },
    {
      "metadata": {
        "id": "_fKgCVHQk30e",
        "colab_type": "text"
      },
      "cell_type": "markdown",
      "source": [
        "#### 3.2 gamma = 0.15"
      ]
    },
    {
      "metadata": {
        "id": "5CtrxXprk30e",
        "colab_type": "code",
        "colab": {}
      },
      "cell_type": "code",
      "source": [
        "gamma2 = 0.15\n",
        "def returnfunc(x):\n",
        "    return -(x.T * mu_matrix.T-gamma2*np.sqrt(np.dot(np.dot(x.T,Cov),x)))"
      ],
      "execution_count": 0,
      "outputs": []
    },
    {
      "metadata": {
        "id": "qdb2wK9Lk30f",
        "colab_type": "code",
        "colab": {
          "base_uri": "https://localhost:8080/",
          "height": 34
        },
        "outputId": "310d6ebb-f9e3-4a4a-a756-20e1ba90fe15"
      },
      "cell_type": "code",
      "source": [
        "x0 = np.matrix('0 0 0 0 0 0 ')\n",
        "print(x0)"
      ],
      "execution_count": 33,
      "outputs": [
        {
          "output_type": "stream",
          "text": [
            "[[0 0 0 0 0 0]]\n"
          ],
          "name": "stdout"
        }
      ]
    },
    {
      "metadata": {
        "id": "2BMbdiRyk30i",
        "colab_type": "code",
        "colab": {}
      },
      "cell_type": "code",
      "source": [
        "res2 = scipy.optimize.minimize(\n",
        "    returnfunc,\n",
        "    x0,\n",
        "    constraints=(\n",
        "        {'type':'eq','fun':lambda x:x[0]+x[1]+x[2]+x[3]+x[4]+x[5]-1}\n",
        "    ),\n",
        "    bounds=((0,None),(0,None),(0,None),(0,None),(0,None),(0,None)),\n",
        ")"
      ],
      "execution_count": 0,
      "outputs": []
    },
    {
      "metadata": {
        "id": "4itURWCOk30k",
        "colab_type": "code",
        "colab": {
          "base_uri": "https://localhost:8080/",
          "height": 51
        },
        "outputId": "2e98321c-ef58-408e-b6f9-28b1e5d70e04"
      },
      "cell_type": "code",
      "source": [
        "res2.x"
      ],
      "execution_count": 35,
      "outputs": [
        {
          "output_type": "execute_result",
          "data": {
            "text/plain": [
              "array([0.28012906, 0.16293947, 0.16697493, 0.19504473, 0.18995347,\n",
              "       0.00495833])"
            ]
          },
          "metadata": {
            "tags": []
          },
          "execution_count": 35
        }
      ]
    },
    {
      "metadata": {
        "id": "_N6188WPk30m",
        "colab_type": "text"
      },
      "cell_type": "markdown",
      "source": [
        "#### 3.3 gamma = 0.2"
      ]
    },
    {
      "metadata": {
        "id": "PSOT9A9gk30m",
        "colab_type": "code",
        "colab": {}
      },
      "cell_type": "code",
      "source": [
        "gamma3 = 0.2\n",
        "def returnfunc(x):\n",
        "    return -(x.T * mu_matrix.T-gamma3* np.sqrt(np.dot(np.dot(x.T,Cov),x)))"
      ],
      "execution_count": 0,
      "outputs": []
    },
    {
      "metadata": {
        "id": "YTOa1E60k30o",
        "colab_type": "code",
        "colab": {
          "base_uri": "https://localhost:8080/",
          "height": 34
        },
        "outputId": "57a9c1d4-9150-482e-c7c0-bbd3aa3d5c88"
      },
      "cell_type": "code",
      "source": [
        "x0 = np.matrix('0 0 0 0 0 0 ')\n",
        "print(x0)"
      ],
      "execution_count": 37,
      "outputs": [
        {
          "output_type": "stream",
          "text": [
            "[[0 0 0 0 0 0]]\n"
          ],
          "name": "stdout"
        }
      ]
    },
    {
      "metadata": {
        "id": "ib5QsjuKk30r",
        "colab_type": "code",
        "colab": {}
      },
      "cell_type": "code",
      "source": [
        "res3 = scipy.optimize.minimize(\n",
        "    returnfunc,\n",
        "    x0,\n",
        "    constraints=(\n",
        "        {'type':'eq','fun':lambda x:x[0]+x[1]+x[2]+x[3]+x[4]+x[5]-1}\n",
        "    ),\n",
        "    bounds=((0,None),(0,None),(0,None),(0,None),(0,None),(0,None)),\n",
        ")"
      ],
      "execution_count": 0,
      "outputs": []
    },
    {
      "metadata": {
        "id": "auF69O8uk30t",
        "colab_type": "code",
        "colab": {
          "base_uri": "https://localhost:8080/",
          "height": 51
        },
        "outputId": "e2c1f499-f282-4b7d-8ecd-cbc71360b604"
      },
      "cell_type": "code",
      "source": [
        "res3.x"
      ],
      "execution_count": 39,
      "outputs": [
        {
          "output_type": "execute_result",
          "data": {
            "text/plain": [
              "array([0.25906249, 0.16776416, 0.16932891, 0.19124837, 0.18827692,\n",
              "       0.02431914])"
            ]
          },
          "metadata": {
            "tags": []
          },
          "execution_count": 39
        }
      ]
    },
    {
      "metadata": {
        "id": "tozJhxP6k30w",
        "colab_type": "text"
      },
      "cell_type": "markdown",
      "source": [
        "### 4. Simulation\n",
        "\n",
        "Based on the optimal allocations $𝑥^∗$ obtained in the two questions above, 𝜇 and 𝛴, please simulate the value of your portfolio after 300 trading days assuming that you have invested $100,000.\n",
        "- Report the mean and the variance of the portfolio in a table\n",
        "- Provide visualizations of your results. "
      ]
    },
    {
      "metadata": {
        "id": "jfYCnsLsk30x",
        "colab_type": "text"
      },
      "cell_type": "markdown",
      "source": [
        "#### 4.1 Minimizing Risk Simulation"
      ]
    },
    {
      "metadata": {
        "id": "IfsqgHYfk30y",
        "colab_type": "code",
        "colab": {
          "base_uri": "https://localhost:8080/",
          "height": 376
        },
        "outputId": "7495a284-7a0d-4d4f-d95a-ad806724060d"
      },
      "cell_type": "code",
      "source": [
        "# Simulation\n",
        "import numpy as np\n",
        "import matplotlib.pyplot as plt\n",
        "simu=1000 # I am doing 100 simulations\n",
        "T = 300 # 300 trading days\n",
        "m=6 # I have 5 assets\n",
        "B=100000 # Budget is $100000\n",
        "z_values = []\n",
        "for q in range(simu):\n",
        "    y = np.zeros((T+1,m))\n",
        "    y[0]=[x_min.item(0),x_min.item(1),x_min.item(2),x_min.item(3),x_min.item(4),x_min.item(5)]\n",
        "    for i in range(T):\n",
        "        rr=np.random.multivariate_normal(mu,Cov)\n",
        "        y[i+1]=y[i]*(1+rr)\n",
        "    z_values.append(sum(y[T])*B)\n",
        "\n",
        "plt.hist(z_values, density=True )\n",
        "plt.xlabel('Portfolio')\n",
        "plt.ylabel('Probability')\n",
        "plt.title('Histogram of Returns')\n",
        "plt.show()"
      ],
      "execution_count": 40,
      "outputs": [
        {
          "output_type": "display_data",
          "data": {
            "image/png": "[encoded data removed]",
            "text/plain": [
              "<matplotlib.figure.Figure at 0x7f19b55202b0>"
            ]
          },
          "metadata": {
            "tags": []
          }
        }
      ]
    },
    {
      "metadata": {
        "id": "S6fTQhBrk30z",
        "colab_type": "code",
        "colab": {
          "base_uri": "https://localhost:8080/",
          "height": 51
        },
        "outputId": "91722ca4-b240-431a-b531-11d1b9245a18"
      },
      "cell_type": "code",
      "source": [
        "print(np.mean(z_values))\n",
        "print(np.var(z_values))"
      ],
      "execution_count": 41,
      "outputs": [
        {
          "output_type": "stream",
          "text": [
            "137925.98955588514\n",
            "474573263.756741\n"
          ],
          "name": "stdout"
        }
      ]
    },
    {
      "metadata": {
        "id": "ppBUQrP-k302",
        "colab_type": "text"
      },
      "cell_type": "markdown",
      "source": [
        "#### 4.2.1 Maximizing Return (Utility) - gamma = 0.10"
      ]
    },
    {
      "metadata": {
        "id": "oRfsDBhbk303",
        "colab_type": "code",
        "colab": {
          "base_uri": "https://localhost:8080/",
          "height": 376
        },
        "outputId": "dccf9df8-7964-4e86-c8a9-fa1e102fb00b"
      },
      "cell_type": "code",
      "source": [
        "# Simulation\n",
        "import numpy as np\n",
        "import matplotlib.pyplot as plt\n",
        "simu=1000 # I am doing 1000 simulations\n",
        "T = 300 # 300 trading days\n",
        "m=6 # I have 5 assets\n",
        "B=100000 # Budget is $100000\n",
        "z_values = []\n",
        "for q in range(simu):\n",
        "    y = np.zeros((T+1,m))\n",
        "    y[0]=[res1.x.item(0),res1.x.item(1),res1.x.item(2),res1.x.item(3),res1.x.item(4),res1.x.item(5)]\n",
        "    for i in range(T):\n",
        "        rr=np.random.multivariate_normal(mu,Cov)\n",
        "        y[i+1]=y[i]*(1+rr)\n",
        "    z_values.append(sum(y[T])*B)\n",
        "\n",
        "plt.hist(z_values, density=True )\n",
        "plt.xlabel('Portfolio')\n",
        "plt.ylabel('Probability')\n",
        "plt.title('Histogram of Returns')\n",
        "plt.show()"
      ],
      "execution_count": 42,
      "outputs": [
        {
          "output_type": "display_data",
          "data": {
            "image/png": "[encoded data removed]",
            "text/plain": [
              "<matplotlib.figure.Figure at 0x7f19b545ad68>"
            ]
          },
          "metadata": {
            "tags": []
          }
        }
      ]
    },
    {
      "metadata": {
        "id": "-Lq_7bDTk305",
        "colab_type": "code",
        "colab": {
          "base_uri": "https://localhost:8080/",
          "height": 51
        },
        "outputId": "0e6252ef-4e8f-48f5-ee7f-59e4f33a6d4d"
      },
      "cell_type": "code",
      "source": [
        "import math\n",
        "print(np.mean(z_values))\n",
        "print(np.var(z_values))"
      ],
      "execution_count": 43,
      "outputs": [
        {
          "output_type": "stream",
          "text": [
            "146441.93673523405\n",
            "611241533.1734049\n"
          ],
          "name": "stdout"
        }
      ]
    },
    {
      "metadata": {
        "id": "mqgB5-C5k307",
        "colab_type": "text"
      },
      "cell_type": "markdown",
      "source": [
        "#### 4.2.2 Maximizing Return (Utility) - gamma = 0.15"
      ]
    },
    {
      "metadata": {
        "id": "Oxn2dnVdk307",
        "colab_type": "code",
        "colab": {
          "base_uri": "https://localhost:8080/",
          "height": 376
        },
        "outputId": "71352a69-c9f5-4e1f-87cd-8434504cbae0"
      },
      "cell_type": "code",
      "source": [
        "# Simulation\n",
        "import numpy as np\n",
        "import matplotlib.pyplot as plt\n",
        "simu=1000 # I am doing 1000 simulations\n",
        "T = 300 # 300 trading days\n",
        "m=6 # I have 5 assets\n",
        "B=100000 # Budget is $100000\n",
        "z_values = []\n",
        "for q in range(simu):\n",
        "    y = np.zeros((T+1,m))\n",
        "    y[0]=[res2.x.item(0),res2.x.item(1),res2.x.item(2),res2.x.item(3),res2.x.item(4),res2.x.item(5)]\n",
        "    for i in range(T):\n",
        "        rr=np.random.multivariate_normal(mu,Cov)\n",
        "        y[i+1]=y[i]*(1+rr)\n",
        "    z_values.append(sum(y[T])*B)\n",
        "\n",
        "plt.hist(z_values, density=True )\n",
        "plt.xlabel('Portfolio')\n",
        "plt.ylabel('Probability')\n",
        "plt.title('Histogram of Returns')\n",
        "plt.show()"
      ],
      "execution_count": 44,
      "outputs": [
        {
          "output_type": "display_data",
          "data": {
            "image/png": "[encoded data removed]",
            "text/plain": [
              "<matplotlib.figure.Figure at 0x7f19b542d438>"
            ]
          },
          "metadata": {
            "tags": []
          }
        }
      ]
    },
    {
      "metadata": {
        "id": "dNoYjOcmk30-",
        "colab_type": "code",
        "colab": {
          "base_uri": "https://localhost:8080/",
          "height": 51
        },
        "outputId": "b7200a2d-f29b-43cc-d9b6-200d8170f72c"
      },
      "cell_type": "code",
      "source": [
        "import math\n",
        "print(np.mean(z_values))\n",
        "print(np.var(z_values))"
      ],
      "execution_count": 45,
      "outputs": [
        {
          "output_type": "stream",
          "text": [
            "143910.604790161\n",
            "625811736.4795579\n"
          ],
          "name": "stdout"
        }
      ]
    },
    {
      "metadata": {
        "id": "Gz234RHNk31A",
        "colab_type": "text"
      },
      "cell_type": "markdown",
      "source": [
        "#### 4.2.3 Maximizing Return (Utility) - gamma = 0.20"
      ]
    },
    {
      "metadata": {
        "id": "q79xSzvJk31A",
        "colab_type": "code",
        "colab": {
          "base_uri": "https://localhost:8080/",
          "height": 376
        },
        "outputId": "a0c48d42-3fb2-4a29-ebae-5e6bfb2ab296"
      },
      "cell_type": "code",
      "source": [
        "# Simulation\n",
        "import numpy as np\n",
        "import matplotlib.pyplot as plt\n",
        "simu=1000 # I am doing 1000 simulations\n",
        "T = 300 # 300 trading days\n",
        "m=6 # I have 5 assets\n",
        "B=100000 # Budget is $100000\n",
        "z_values = []\n",
        "for q in range(simu):\n",
        "    y = np.zeros((T+1,m))\n",
        "    y[0]=[res3.x.item(0),res3.x.item(1),res3.x.item(2),res3.x.item(3),res3.x.item(4),res3.x.item(5)]\n",
        "    for i in range(T):\n",
        "        rr=np.random.multivariate_normal(mu,Cov)\n",
        "        y[i+1]=y[i]*(1+rr)\n",
        "    z_values.append(sum(y[T])*B)\n",
        "\n",
        "plt.hist(z_values, density=True )\n",
        "plt.xlabel('Portfolio')\n",
        "plt.ylabel('Probability')\n",
        "plt.title('Histogram of Returns')\n",
        "plt.show()"
      ],
      "execution_count": 46,
      "outputs": [
        {
          "output_type": "display_data",
          "data": {
            "image/png": "[encoded data removed]",
            "text/plain": [
              "<matplotlib.figure.Figure at 0x7f19b7f74e48>"
            ]
          },
          "metadata": {
            "tags": []
          }
        }
      ]
    },
    {
      "metadata": {
        "id": "__7rUi6Ik31E",
        "colab_type": "code",
        "colab": {
          "base_uri": "https://localhost:8080/",
          "height": 51
        },
        "outputId": "d5164234-bc68-49e6-9a54-5b9f120f8b1d"
      },
      "cell_type": "code",
      "source": [
        "import math\n",
        "print(np.mean(z_values))\n",
        "print(np.var(z_values))"
      ],
      "execution_count": 47,
      "outputs": [
        {
          "output_type": "stream",
          "text": [
            "141484.77934762\n",
            "572204309.3970996\n"
          ],
          "name": "stdout"
        }
      ]
    },
    {
      "metadata": {
        "id": "jyG_qTQXk31G",
        "colab_type": "text"
      },
      "cell_type": "markdown",
      "source": [
        "#### 4.3. Reporting Result\n",
        "\n",
        "||Minimizing Risk|Maximize Utility (gamma = 0.1)|Maximize Utility (gamma = 0.15)|Maximize Utility (gamma = 0.2)\n",
        "|-|-|-\n",
        "|Mean|a|b|c|d\n",
        "|Variance|a|b|c|d"
      ]
    },
    {
      "metadata": {
        "id": "sVyq2fRvk31I",
        "colab_type": "text"
      },
      "cell_type": "markdown",
      "source": [
        "### 5. Recommendations\n",
        "- a. Explain the different allocations, i.e., why they are different.\n",
        "- b. What should an investor with risk aversion $\\gamma$ = 0.1 do? What about investors with\n",
        "$\\gamma$ = 0.15 and $\\gamma$ = 0.2?"
      ]
    },
    {
      "metadata": {
        "id": "tZeVs8kVk31I",
        "colab_type": "text"
      },
      "cell_type": "markdown",
      "source": [
        "## Part B: Portfolio Optimization based on the last 400 trading days\n",
        "\n",
        "Redo Part A taking into account the last 400 trading days only."
      ]
    },
    {
      "metadata": {
        "id": "ktbV8kjWk31I",
        "colab_type": "code",
        "colab": {
          "base_uri": "https://localhost:8080/",
          "height": 34
        },
        "outputId": "211d74f4-b6b9-4e02-8b0a-a0a1d65c9dd2"
      },
      "cell_type": "code",
      "source": [
        "df_2 = df.iloc[-400:]\n",
        "df_2.shape"
      ],
      "execution_count": 48,
      "outputs": [
        {
          "output_type": "execute_result",
          "data": {
            "text/plain": [
              "(400, 6)"
            ]
          },
          "metadata": {
            "tags": []
          },
          "execution_count": 48
        }
      ]
    },
    {
      "metadata": {
        "id": "VZOiBVilk31K",
        "colab_type": "text"
      },
      "cell_type": "markdown",
      "source": [
        "### 1. Prepare the dataset\n",
        "\n",
        "#### A. Based on the dataset, compute the rate of returns for each stock, i.e.,\n",
        "\n",
        "$$r_{it} = \\frac{I_{i,t} - I_{i,t-1}}{I_{i,t-1}}$$\n",
        "\n",
        "where $I_{i,t}$ is the raw data from stock i at time t.\n"
      ]
    },
    {
      "metadata": {
        "id": "AtUkZAHtk31L",
        "colab_type": "code",
        "colab": {
          "base_uri": "https://localhost:8080/",
          "height": 204
        },
        "outputId": "7f315880-011b-4dab-bdc0-a5add4c9fce0"
      },
      "cell_type": "code",
      "source": [
        "# calculate the rate of returns for each stock\n",
        "rr_2 =  df_2.pct_change()\n",
        "rr_2.head()"
      ],
      "execution_count": 49,
      "outputs": [
        {
          "output_type": "execute_result",
          "data": {
            "text/html": [
              "<div>\n",
              "<style scoped>\n",
              "    .dataframe tbody tr th:only-of-type {\n",
              "        vertical-align: middle;\n",
              "    }\n",
              "\n",
              "    .dataframe tbody tr th {\n",
              "        vertical-align: top;\n",
              "    }\n",
              "\n",
              "    .dataframe thead th {\n",
              "        text-align: right;\n",
              "    }\n",
              "</style>\n",
              "<table border=\"1\" class=\"dataframe\">\n",
              "  <thead>\n",
              "    <tr style=\"text-align: right;\">\n",
              "      <th></th>\n",
              "      <th>Amazon</th>\n",
              "      <th>Apple</th>\n",
              "      <th>Ebay</th>\n",
              "      <th>Facebook</th>\n",
              "      <th>Google</th>\n",
              "      <th>Twitter</th>\n",
              "    </tr>\n",
              "  </thead>\n",
              "  <tbody>\n",
              "    <tr>\n",
              "      <th>399</th>\n",
              "      <td>NaN</td>\n",
              "      <td>NaN</td>\n",
              "      <td>NaN</td>\n",
              "      <td>NaN</td>\n",
              "      <td>NaN</td>\n",
              "      <td>NaN</td>\n",
              "    </tr>\n",
              "    <tr>\n",
              "      <th>400</th>\n",
              "      <td>-0.015032</td>\n",
              "      <td>0.015207</td>\n",
              "      <td>0.010625</td>\n",
              "      <td>0.006353</td>\n",
              "      <td>0.012142</td>\n",
              "      <td>0.067554</td>\n",
              "    </tr>\n",
              "    <tr>\n",
              "      <th>401</th>\n",
              "      <td>-0.002854</td>\n",
              "      <td>0.008281</td>\n",
              "      <td>-0.007646</td>\n",
              "      <td>0.000879</td>\n",
              "      <td>-0.002107</td>\n",
              "      <td>-0.022052</td>\n",
              "    </tr>\n",
              "    <tr>\n",
              "      <th>402</th>\n",
              "      <td>0.015332</td>\n",
              "      <td>0.004060</td>\n",
              "      <td>-0.001284</td>\n",
              "      <td>-0.001597</td>\n",
              "      <td>0.002794</td>\n",
              "      <td>-0.011274</td>\n",
              "    </tr>\n",
              "    <tr>\n",
              "      <th>403</th>\n",
              "      <td>0.008462</td>\n",
              "      <td>-0.007444</td>\n",
              "      <td>0.000321</td>\n",
              "      <td>-0.001439</td>\n",
              "      <td>0.001251</td>\n",
              "      <td>-0.058007</td>\n",
              "    </tr>\n",
              "  </tbody>\n",
              "</table>\n",
              "</div>"
            ],
            "text/plain": [
              "       Amazon     Apple      Ebay  Facebook    Google   Twitter\n",
              "399       NaN       NaN       NaN       NaN       NaN       NaN\n",
              "400 -0.015032  0.015207  0.010625  0.006353  0.012142  0.067554\n",
              "401 -0.002854  0.008281 -0.007646  0.000879 -0.002107 -0.022052\n",
              "402  0.015332  0.004060 -0.001284 -0.001597  0.002794 -0.011274\n",
              "403  0.008462 -0.007444  0.000321 -0.001439  0.001251 -0.058007"
            ]
          },
          "metadata": {
            "tags": []
          },
          "execution_count": 49
        }
      ]
    },
    {
      "metadata": {
        "id": "_fpdbOgok31N",
        "colab_type": "text"
      },
      "cell_type": "markdown",
      "source": [
        "\n",
        "\n",
        "\n",
        "#### B. Based on the data set, compute the average returns that will be used for the optimization, i.e.,\n",
        "\n",
        "$$\\mu_{i} = \\displaystyle\\sum_{t=1}^T (1+r_{it})^\\frac{1}{T} - 1 $$\n",
        "Hint: the term $\\displaystyle\\sum_{t=1}^T (1+r_{it})^\\frac{1}{T}$ is a geometric mean"
      ]
    },
    {
      "metadata": {
        "id": "3C9xoSaJk31N",
        "colab_type": "code",
        "colab": {
          "base_uri": "https://localhost:8080/",
          "height": 0
        },
        "outputId": "f5d357f2-2384-45c0-8b71-5de344dc9cfc"
      },
      "cell_type": "code",
      "source": [
        "# remove the NAN value and add 1 to all values \n",
        "rr1_2 = rr_2[1:] # rr1 is average returns without NANs\n",
        "rr2_2 = rr1_2 + 1 #rr2 is average returns +1\n",
        "rr2_2.head()"
      ],
      "execution_count": 50,
      "outputs": [
        {
          "output_type": "execute_result",
          "data": {
            "text/html": [
              "<div>\n",
              "<style scoped>\n",
              "    .dataframe tbody tr th:only-of-type {\n",
              "        vertical-align: middle;\n",
              "    }\n",
              "\n",
              "    .dataframe tbody tr th {\n",
              "        vertical-align: top;\n",
              "    }\n",
              "\n",
              "    .dataframe thead th {\n",
              "        text-align: right;\n",
              "    }\n",
              "</style>\n",
              "<table border=\"1\" class=\"dataframe\">\n",
              "  <thead>\n",
              "    <tr style=\"text-align: right;\">\n",
              "      <th></th>\n",
              "      <th>Amazon</th>\n",
              "      <th>Apple</th>\n",
              "      <th>Ebay</th>\n",
              "      <th>Facebook</th>\n",
              "      <th>Google</th>\n",
              "      <th>Twitter</th>\n",
              "    </tr>\n",
              "  </thead>\n",
              "  <tbody>\n",
              "    <tr>\n",
              "      <th>400</th>\n",
              "      <td>0.984968</td>\n",
              "      <td>1.015207</td>\n",
              "      <td>1.010625</td>\n",
              "      <td>1.006353</td>\n",
              "      <td>1.012142</td>\n",
              "      <td>1.067554</td>\n",
              "    </tr>\n",
              "    <tr>\n",
              "      <th>401</th>\n",
              "      <td>0.997146</td>\n",
              "      <td>1.008281</td>\n",
              "      <td>0.992354</td>\n",
              "      <td>1.000879</td>\n",
              "      <td>0.997893</td>\n",
              "      <td>0.977948</td>\n",
              "    </tr>\n",
              "    <tr>\n",
              "      <th>402</th>\n",
              "      <td>1.015332</td>\n",
              "      <td>1.004060</td>\n",
              "      <td>0.998716</td>\n",
              "      <td>0.998403</td>\n",
              "      <td>1.002794</td>\n",
              "      <td>0.988726</td>\n",
              "    </tr>\n",
              "    <tr>\n",
              "      <th>403</th>\n",
              "      <td>1.008462</td>\n",
              "      <td>0.992556</td>\n",
              "      <td>1.000321</td>\n",
              "      <td>0.998561</td>\n",
              "      <td>1.001251</td>\n",
              "      <td>0.941993</td>\n",
              "    </tr>\n",
              "    <tr>\n",
              "      <th>404</th>\n",
              "      <td>0.999318</td>\n",
              "      <td>0.999352</td>\n",
              "      <td>1.002571</td>\n",
              "      <td>1.000160</td>\n",
              "      <td>0.999641</td>\n",
              "      <td>0.998947</td>\n",
              "    </tr>\n",
              "  </tbody>\n",
              "</table>\n",
              "</div>"
            ],
            "text/plain": [
              "       Amazon     Apple      Ebay  Facebook    Google   Twitter\n",
              "400  0.984968  1.015207  1.010625  1.006353  1.012142  1.067554\n",
              "401  0.997146  1.008281  0.992354  1.000879  0.997893  0.977948\n",
              "402  1.015332  1.004060  0.998716  0.998403  1.002794  0.988726\n",
              "403  1.008462  0.992556  1.000321  0.998561  1.001251  0.941993\n",
              "404  0.999318  0.999352  1.002571  1.000160  0.999641  0.998947"
            ]
          },
          "metadata": {
            "tags": []
          },
          "execution_count": 50
        }
      ]
    },
    {
      "metadata": {
        "id": "P9nFE1H9k31Q",
        "colab_type": "code",
        "colab": {
          "base_uri": "https://localhost:8080/",
          "height": 0
        },
        "outputId": "76de1b2a-ae37-464b-d51b-165d2d30d318"
      },
      "cell_type": "code",
      "source": [
        "# calculate the average returns using gmean\n",
        "mu_2 = scipy.stats.gmean(rr2_2) -1\n",
        "mu_2"
      ],
      "execution_count": 51,
      "outputs": [
        {
          "output_type": "execute_result",
          "data": {
            "text/plain": [
              "array([0.0014643 , 0.00126081, 0.00080563, 0.00098042, 0.0008732 ,\n",
              "       0.00150318])"
            ]
          },
          "metadata": {
            "tags": []
          },
          "execution_count": 51
        }
      ]
    },
    {
      "metadata": {
        "id": "JG27_8Bck31R",
        "colab_type": "text"
      },
      "cell_type": "markdown",
      "source": [
        "#### C. Based on the data set, compute the variance-covariance matrix of the stock returns, i.e.,\n",
        "\n",
        "$$CoVar(r_{i},r_{j}) = \\frac{1}{T}\\displaystyle\\sum_{t=1}^{T} (r_{it}-\\bar{r_{it}})(r_{jt} -\\bar{r_{jt}})-1$$\n",
        "\n",
        "Hint: the term $\\displaystyle\\sum_{t=1}^{T} (r_{it}-\\bar{r_{it}})(r_{jt} -\\bar{r_{jt}})$ is a geometric mean"
      ]
    },
    {
      "metadata": {
        "id": "KJEC38n9k31R",
        "colab_type": "code",
        "colab": {
          "base_uri": "https://localhost:8080/",
          "height": 221
        },
        "outputId": "5a3ad647-8cf6-4d2d-9ec4-497bd4899319"
      },
      "cell_type": "code",
      "source": [
        "# calculate the variance-covariance matrix of the stock returns\n",
        "Cov_2 = np.cov(rr1_2, rowvar =False) \n",
        "Cov_2\n",
        "## If rowvar is True (default), then each row represents a variable, \n",
        "## with observations in the columns. Otherwise, the relationship is \n",
        "## transposed: each column represents a variable, while the rows \n",
        "## contain observations. "
      ],
      "execution_count": 52,
      "outputs": [
        {
          "output_type": "execute_result",
          "data": {
            "text/plain": [
              "array([[ 2.30088874e-04, -9.80656083e-06, -3.67118033e-07,\n",
              "        -2.03091049e-06, -9.31662594e-07, -3.37324041e-05],\n",
              "       [-9.80656083e-06,  1.39717164e-04,  6.59845214e-06,\n",
              "         2.84381359e-06,  6.91391549e-06, -1.06771505e-05],\n",
              "       [-3.67118033e-07,  6.59845214e-06,  2.36747967e-04,\n",
              "        -1.32110055e-05,  1.87955968e-06, -2.61970380e-05],\n",
              "       [-2.03091049e-06,  2.84381359e-06, -1.32110055e-05,\n",
              "         1.58565058e-04,  2.13809934e-05, -2.33631945e-06],\n",
              "       [-9.31662594e-07,  6.91391549e-06,  1.87955968e-06,\n",
              "         2.13809934e-05,  1.22494482e-04, -5.32303550e-06],\n",
              "       [-3.37324041e-05, -1.06771505e-05, -2.61970380e-05,\n",
              "        -2.33631945e-06, -5.32303550e-06,  1.00392215e-03]])"
            ]
          },
          "metadata": {
            "tags": []
          },
          "execution_count": 52
        }
      ]
    },
    {
      "metadata": {
        "id": "Z9bjkDI-k31T",
        "colab_type": "text"
      },
      "cell_type": "markdown",
      "source": [
        "#### D. Provide the vector $\\mu$ and the variance-covariance matrix $\\Sigma$ for the 6 assets considered"
      ]
    },
    {
      "metadata": {
        "id": "FG8KrgTUk31T",
        "colab_type": "code",
        "colab": {
          "base_uri": "https://localhost:8080/",
          "height": 51
        },
        "outputId": "b4836b53-14a8-4b98-8cb7-52c10fccc203"
      },
      "cell_type": "code",
      "source": [
        "# the vector mu \n",
        "mu_2"
      ],
      "execution_count": 53,
      "outputs": [
        {
          "output_type": "execute_result",
          "data": {
            "text/plain": [
              "array([0.0014643 , 0.00126081, 0.00080563, 0.00098042, 0.0008732 ,\n",
              "       0.00150318])"
            ]
          },
          "metadata": {
            "tags": []
          },
          "execution_count": 53
        }
      ]
    },
    {
      "metadata": {
        "id": "xA15Ky2rk31V",
        "colab_type": "code",
        "colab": {}
      },
      "cell_type": "code",
      "source": [
        "mu_matrix = matrix(mu_2)"
      ],
      "execution_count": 0,
      "outputs": []
    },
    {
      "metadata": {
        "id": "wHCQ-XQRk31W",
        "colab_type": "code",
        "colab": {}
      },
      "cell_type": "code",
      "source": [
        "# the variance-covariance matrix Sigma\n",
        "Cov = Cov_2"
      ],
      "execution_count": 0,
      "outputs": []
    },
    {
      "metadata": {
        "id": "JIbtYxD4k31Z",
        "colab_type": "text"
      },
      "cell_type": "markdown",
      "source": [
        "### 2. Portfolio Optimization: Minimizing Risk\n",
        "\n",
        "What is the allocation x = {x1,x2,x3,x4,x5,x6} that solve the following problem\n",
        "\n",
        "$$Minimize\\frac{1}{2}x^{T}\\sum x$$\n",
        "\n",
        "Subject to\n",
        "\n",
        "$$\\mu^{T}x \\geq R \\\\\n",
        "\\displaystyle \\sum_{i=1}^{6} x_{i} = 1 \\\\\n",
        "x \\geq 0$$\n",
        "\n",
        "where R is the annual return that the investor wants to achieve, with R = 0.07"
      ]
    },
    {
      "metadata": {
        "id": "CY--kcmfk31Z",
        "colab_type": "code",
        "colab": {
          "base_uri": "https://localhost:8080/",
          "height": 119
        },
        "outputId": "282a4025-5a62-490d-e4a7-bc7ac2eab0db"
      },
      "cell_type": "code",
      "source": [
        "R=0.07/252 ##there are 252 trading days in a year\n",
        "\n",
        "x=cvx.Variable(6)\n",
        "\n",
        "# Solution\n",
        "# prob = cvs.Problem(objective, C)\n",
        "# result = prob.solve()\n",
        "# Prob 1\n",
        "risk=0.5 *quad_form(x, Cov_2)\n",
        "rr=sum_entries(mu_2*x)\n",
        "prob1 = Problem(Minimize(risk), \n",
        "               [rr>=R,sum_entries(x) == 1, \n",
        "                x >= 0])\n",
        "prob1.solve()\n",
        "print(x.value)"
      ],
      "execution_count": 56,
      "outputs": [
        {
          "output_type": "stream",
          "text": [
            "[[0.16299763]\n",
            " [0.22953546]\n",
            " [0.14733569]\n",
            " [0.18900744]\n",
            " [0.22479685]\n",
            " [0.04632693]]\n"
          ],
          "name": "stdout"
        }
      ]
    },
    {
      "metadata": {
        "id": "vtI9Hm-fk31b",
        "colab_type": "text"
      },
      "cell_type": "markdown",
      "source": [
        "### 3. Portfolio Optimization: Maximizing Returns (or Utility)\n",
        "\n",
        "Another approach to portfolio optimization is to optimize the expected returns that the portfolio would give while penalizing for volatility (variance). Specifically, what is the allocation 𝑥 = {𝑥1, 𝑥2, 𝑥3, 𝑥4, 𝑥5, 𝑥6} that solve the following optimization problem\n",
        "\n",
        "$$ Maximize\\mu^{T}x - \\gamma \\sqrt{(x^{T}\\Sigma x)}$$\n",
        "\n",
        "Subject to \n",
        "$$\\sum_{i=1}^{6}x_{i} = 1 \\\\\n",
        "x \\geq 0$$\n",
        "\n",
        "where $\\gamma$ is the risk aversion coefficient of the investor. Report the optimal allocations for $\\gamma$ = 0.1, $\\gamma$ = 0.15, $\\gamma$ = 0.2, as well as the value of the objective function "
      ]
    },
    {
      "metadata": {
        "id": "7s9Y4UATk31c",
        "colab_type": "text"
      },
      "cell_type": "markdown",
      "source": [
        "#### 3.1 gamma = 0.1"
      ]
    },
    {
      "metadata": {
        "id": "whSt9AkSk31c",
        "colab_type": "code",
        "colab": {}
      },
      "cell_type": "code",
      "source": [
        "import numpy as np\n",
        "from scipy.optimize import minimize"
      ],
      "execution_count": 0,
      "outputs": []
    },
    {
      "metadata": {
        "id": "JWzFdZFDk31e",
        "colab_type": "code",
        "colab": {}
      },
      "cell_type": "code",
      "source": [
        "gamma1 = 0.1\n",
        "def returnfunc(x):\n",
        "    return -(x.T * mu_matrix.T-gamma1*np.sqrt(np.dot(np.dot(x.T,Cov),x)))"
      ],
      "execution_count": 0,
      "outputs": []
    },
    {
      "metadata": {
        "id": "HaVdlkVXk31i",
        "colab_type": "code",
        "colab": {
          "base_uri": "https://localhost:8080/",
          "height": 51
        },
        "outputId": "143e910e-189f-4cbf-9590-0e5b1204f9cc"
      },
      "cell_type": "code",
      "source": [
        "x0 = np.matrix('0 0 0 0 0 0 ')\n",
        "print(x0)\n",
        "x0.shape"
      ],
      "execution_count": 59,
      "outputs": [
        {
          "output_type": "stream",
          "text": [
            "[[0 0 0 0 0 0]]\n"
          ],
          "name": "stdout"
        },
        {
          "output_type": "execute_result",
          "data": {
            "text/plain": [
              "(1, 6)"
            ]
          },
          "metadata": {
            "tags": []
          },
          "execution_count": 59
        }
      ]
    },
    {
      "metadata": {
        "id": "LRuyE32Dk31k",
        "colab_type": "code",
        "colab": {
          "base_uri": "https://localhost:8080/",
          "height": 34
        },
        "outputId": "90f771ef-6f30-4fdc-a523-982c76b7e300"
      },
      "cell_type": "code",
      "source": [
        "mu_matrix.T.shape"
      ],
      "execution_count": 60,
      "outputs": [
        {
          "output_type": "execute_result",
          "data": {
            "text/plain": [
              "(6, 1)"
            ]
          },
          "metadata": {
            "tags": []
          },
          "execution_count": 60
        }
      ]
    },
    {
      "metadata": {
        "id": "QU-3YoGgk31m",
        "colab_type": "code",
        "colab": {}
      },
      "cell_type": "code",
      "source": [
        "res1 = scipy.optimize.minimize(\n",
        "    returnfunc,\n",
        "    x0,\n",
        "    constraints=(\n",
        "        {'type':'eq','fun':lambda x:x[0]+x[1]+x[2]+x[3]+x[4]+x[5]-1}\n",
        "    ),\n",
        "    bounds=((0,None),(0,None),(0,None),(0,None),(0,None),(0,None)),\n",
        ")"
      ],
      "execution_count": 0,
      "outputs": []
    },
    {
      "metadata": {
        "id": "QnpSRGDmk31o",
        "colab_type": "code",
        "colab": {
          "base_uri": "https://localhost:8080/",
          "height": 51
        },
        "outputId": "e22bfa9f-7636-4f3d-9b67-ad8f8f7e9677"
      },
      "cell_type": "code",
      "source": [
        "res1.x"
      ],
      "execution_count": 62,
      "outputs": [
        {
          "output_type": "execute_result",
          "data": {
            "text/plain": [
              "array([0.21998636, 0.21232513, 0.15322577, 0.17908012, 0.17333022,\n",
              "       0.06205241])"
            ]
          },
          "metadata": {
            "tags": []
          },
          "execution_count": 62
        }
      ]
    },
    {
      "metadata": {
        "id": "w8CMEQzbk31q",
        "colab_type": "text"
      },
      "cell_type": "markdown",
      "source": [
        "#### 3.2 gamma = 0.15"
      ]
    },
    {
      "metadata": {
        "id": "2tOZBA4zk31r",
        "colab_type": "code",
        "colab": {}
      },
      "cell_type": "code",
      "source": [
        "gamma2 = 0.15\n",
        "def returnfunc(x):\n",
        "    return -(x.T * mu_matrix.T-gamma2*np.sqrt(np.dot(np.dot(x.T,Cov),x)))"
      ],
      "execution_count": 0,
      "outputs": []
    },
    {
      "metadata": {
        "id": "w1xvBVh3k31s",
        "colab_type": "code",
        "colab": {
          "base_uri": "https://localhost:8080/",
          "height": 34
        },
        "outputId": "7efdf717-5c90-42bf-aebd-ceaa4c9fbf4e"
      },
      "cell_type": "code",
      "source": [
        "x0 = np.matrix('0 0 0 0 0 0 ')\n",
        "print(x0)"
      ],
      "execution_count": 64,
      "outputs": [
        {
          "output_type": "stream",
          "text": [
            "[[0 0 0 0 0 0]]\n"
          ],
          "name": "stdout"
        }
      ]
    },
    {
      "metadata": {
        "id": "7zXeXmDgk31u",
        "colab_type": "code",
        "colab": {}
      },
      "cell_type": "code",
      "source": [
        "res2 = scipy.optimize.minimize(\n",
        "    returnfunc,\n",
        "    x0,\n",
        "    constraints=(\n",
        "        {'type':'eq','fun':lambda x:x[0]+x[1]+x[2]+x[3]+x[4]+x[5]-1}\n",
        "    ),\n",
        "    bounds=((0,None),(0,None),(0,None),(0,None),(0,None),(0,None)),\n",
        ")"
      ],
      "execution_count": 0,
      "outputs": []
    },
    {
      "metadata": {
        "id": "6TuScE9mk31v",
        "colab_type": "code",
        "colab": {
          "base_uri": "https://localhost:8080/",
          "height": 51
        },
        "outputId": "91f541ef-040a-48ef-86b4-1f1f02de5235"
      },
      "cell_type": "code",
      "source": [
        "res2.x"
      ],
      "execution_count": 66,
      "outputs": [
        {
          "output_type": "execute_result",
          "data": {
            "text/plain": [
              "array([0.20717139, 0.20630262, 0.16345486, 0.18306271, 0.18090267,\n",
              "       0.05910575])"
            ]
          },
          "metadata": {
            "tags": []
          },
          "execution_count": 66
        }
      ]
    },
    {
      "metadata": {
        "id": "n6lutvs7k31x",
        "colab_type": "text"
      },
      "cell_type": "markdown",
      "source": [
        "#### 3.3 gamma = 0.2"
      ]
    },
    {
      "metadata": {
        "id": "Swx3vSEBk31x",
        "colab_type": "code",
        "colab": {}
      },
      "cell_type": "code",
      "source": [
        "gamma3 = 0.2\n",
        "def returnfunc(x):\n",
        "    return -(x.T * mu_matrix.T-gamma3* np.sqrt(np.dot(np.dot(x.T,Cov),x)))"
      ],
      "execution_count": 0,
      "outputs": []
    },
    {
      "metadata": {
        "id": "uLRr0hTUk31y",
        "colab_type": "code",
        "colab": {
          "base_uri": "https://localhost:8080/",
          "height": 34
        },
        "outputId": "df403bde-d749-439a-d339-3fb536aa1d7e"
      },
      "cell_type": "code",
      "source": [
        "x0 = np.matrix('0 0 0 0 0 0 ')\n",
        "print(x0)"
      ],
      "execution_count": 68,
      "outputs": [
        {
          "output_type": "stream",
          "text": [
            "[[0 0 0 0 0 0]]\n"
          ],
          "name": "stdout"
        }
      ]
    },
    {
      "metadata": {
        "id": "6-6kSlxHk310",
        "colab_type": "code",
        "colab": {}
      },
      "cell_type": "code",
      "source": [
        "res3 = scipy.optimize.minimize(\n",
        "    returnfunc,\n",
        "    x0,\n",
        "    constraints=(\n",
        "        {'type':'eq','fun':lambda x:x[0]+x[1]+x[2]+x[3]+x[4]+x[5]-1}\n",
        "    ),\n",
        "    bounds=((0,None),(0,None),(0,None),(0,None),(0,None),(0,None)),\n",
        ")"
      ],
      "execution_count": 0,
      "outputs": []
    },
    {
      "metadata": {
        "id": "VvM4NIisk311",
        "colab_type": "code",
        "colab": {
          "base_uri": "https://localhost:8080/",
          "height": 51
        },
        "outputId": "f60a39cc-12ee-46f3-b32b-750ef9ba380d"
      },
      "cell_type": "code",
      "source": [
        "res3.x"
      ],
      "execution_count": 70,
      "outputs": [
        {
          "output_type": "execute_result",
          "data": {
            "text/plain": [
              "array([0.20166682, 0.20413569, 0.16790651, 0.18510503, 0.184638  ,\n",
              "       0.05654795])"
            ]
          },
          "metadata": {
            "tags": []
          },
          "execution_count": 70
        }
      ]
    },
    {
      "metadata": {
        "id": "V0N7cGNjk312",
        "colab_type": "text"
      },
      "cell_type": "markdown",
      "source": [
        "### 4. Simulation\n",
        "\n",
        "Based on the optimal allocations $𝑥^∗$ obtained in the two questions above, 𝜇 and 𝛴, please simulate the value of your portfolio after 300 trading days assuming that you have invested $100,000.\n",
        "- Report the mean and the variance of the portfolio in a table\n",
        "- Provide visualizations of your results. "
      ]
    },
    {
      "metadata": {
        "id": "EgymTuwTk313",
        "colab_type": "text"
      },
      "cell_type": "markdown",
      "source": [
        "#### 4.1 Minimizing Risk Simulation"
      ]
    },
    {
      "metadata": {
        "id": "TJgAjsVhk313",
        "colab_type": "code",
        "colab": {
          "base_uri": "https://localhost:8080/",
          "height": 376
        },
        "outputId": "679233e0-d029-4c3f-c00d-c76a5ac425c5"
      },
      "cell_type": "code",
      "source": [
        "# Simulation\n",
        "import numpy as np\n",
        "import matplotlib.pyplot as plt\n",
        "simu=1000 # I am doing 100 simulations\n",
        "T = 300 # 300 trading days\n",
        "m=6 # I have 5 assets\n",
        "B=100000 # Budget is $100000\n",
        "z_values = []\n",
        "for q in range(simu):\n",
        "    y = np.zeros((T+1,m))\n",
        "    y[0]=[x_min.item(0),x_min.item(1),x_min.item(2),x_min.item(3),x_min.item(4),x_min.item(5)]\n",
        "    for i in range(T):\n",
        "        rr=np.random.multivariate_normal(mu,Cov)\n",
        "        y[i+1]=y[i]*(1+rr)\n",
        "    z_values.append(sum(y[T])*B)\n",
        "\n",
        "plt.hist(z_values, density=True )\n",
        "plt.xlabel('Portfolio')\n",
        "plt.ylabel('Probability')\n",
        "plt.title('Histogram of Returns')\n",
        "plt.show()"
      ],
      "execution_count": 71,
      "outputs": [
        {
          "output_type": "display_data",
          "data": {
            "image/png": "[encoded data removed]",
            "text/plain": [
              "<matplotlib.figure.Figure at 0x7f19b53ed320>"
            ]
          },
          "metadata": {
            "tags": []
          }
        }
      ]
    },
    {
      "metadata": {
        "id": "3j55MiWyk315",
        "colab_type": "code",
        "colab": {
          "base_uri": "https://localhost:8080/",
          "height": 51
        },
        "outputId": "203bdfde-7f1f-4da7-9d61-f46f95adb61b"
      },
      "cell_type": "code",
      "source": [
        "print(np.mean(z_values))\n",
        "print(np.var(z_values))"
      ],
      "execution_count": 72,
      "outputs": [
        {
          "output_type": "stream",
          "text": [
            "138031.80265727424\n",
            "231290153.19812763\n"
          ],
          "name": "stdout"
        }
      ]
    },
    {
      "metadata": {
        "id": "o17mUGN8k317",
        "colab_type": "text"
      },
      "cell_type": "markdown",
      "source": [
        "#### 4.2.1 Maximizing Return (Utility) - gamma = 0.10"
      ]
    },
    {
      "metadata": {
        "id": "DH1Axxz5k317",
        "colab_type": "code",
        "colab": {
          "base_uri": "https://localhost:8080/",
          "height": 376
        },
        "outputId": "dc5e7c64-efa4-44b2-98aa-95c2dc26cacf"
      },
      "cell_type": "code",
      "source": [
        "# Simulation\n",
        "import numpy as np\n",
        "import matplotlib.pyplot as plt\n",
        "simu=1000 # I am doing 1000 simulations\n",
        "T = 300 # 300 trading days\n",
        "m=6 # I have 5 assets\n",
        "B=100000 # Budget is $100000\n",
        "z_values = []\n",
        "for q in range(simu):\n",
        "    y = np.zeros((T+1,m))\n",
        "    y[0]=[res1.x.item(0),res1.x.item(1),res1.x.item(2),res1.x.item(3),res1.x.item(4),res1.x.item(5)]\n",
        "    for i in range(T):\n",
        "        rr=np.random.multivariate_normal(mu,Cov)\n",
        "        y[i+1]=y[i]*(1+rr)\n",
        "    z_values.append(sum(y[T])*B)\n",
        "\n",
        "plt.hist(z_values, density=True )\n",
        "plt.xlabel('Portfolio')\n",
        "plt.ylabel('Probability')\n",
        "plt.title('Histogram of Returns')\n",
        "plt.show()"
      ],
      "execution_count": 73,
      "outputs": [
        {
          "output_type": "display_data",
          "data": {
            "image/png": "[encoded data removed]",
            "text/plain": [
              "<matplotlib.figure.Figure at 0x7f19b541f9b0>"
            ]
          },
          "metadata": {
            "tags": []
          }
        }
      ]
    },
    {
      "metadata": {
        "id": "3v7HYnGnk318",
        "colab_type": "code",
        "colab": {
          "base_uri": "https://localhost:8080/",
          "height": 51
        },
        "outputId": "6fa7a330-7edd-4bb2-9850-7541fe75318f"
      },
      "cell_type": "code",
      "source": [
        "import math\n",
        "print(np.mean(z_values))\n",
        "print(np.var(z_values))"
      ],
      "execution_count": 74,
      "outputs": [
        {
          "output_type": "stream",
          "text": [
            "139327.81196167693\n",
            "218383877.7232379\n"
          ],
          "name": "stdout"
        }
      ]
    },
    {
      "metadata": {
        "id": "25Hd2_CIk31_",
        "colab_type": "text"
      },
      "cell_type": "markdown",
      "source": [
        "#### 4.2.2 Maximizing Return (Utility) - gamma = 0.15"
      ]
    },
    {
      "metadata": {
        "id": "P14tHouIk32A",
        "colab_type": "code",
        "colab": {
          "base_uri": "https://localhost:8080/",
          "height": 376
        },
        "outputId": "94e3c3f0-e686-4f4a-f86f-a8357eed53eb"
      },
      "cell_type": "code",
      "source": [
        "# Simulation\n",
        "import numpy as np\n",
        "import matplotlib.pyplot as plt\n",
        "simu=1000 # I am doing 1000 simulations\n",
        "T = 300 # 300 trading days\n",
        "m=6 # I have 5 assets\n",
        "B=100000 # Budget is $100000\n",
        "z_values = []\n",
        "for q in range(simu):\n",
        "    y = np.zeros((T+1,m))\n",
        "    y[0]=[res2.x.item(0),res2.x.item(1),res2.x.item(2),res2.x.item(3),res2.x.item(4),res2.x.item(5)]\n",
        "    for i in range(T):\n",
        "        rr=np.random.multivariate_normal(mu,Cov)\n",
        "        y[i+1]=y[i]*(1+rr)\n",
        "    z_values.append(sum(y[T])*B)\n",
        "\n",
        "plt.hist(z_values, density=True )\n",
        "plt.xlabel('Portfolio')\n",
        "plt.ylabel('Probability')\n",
        "plt.title('Histogram of Returns')\n",
        "plt.show()"
      ],
      "execution_count": 75,
      "outputs": [
        {
          "output_type": "display_data",
          "data": {
            "image/png": "[encoded data removed]",
            "text/plain": [
              "<matplotlib.figure.Figure at 0x7f19b53a3588>"
            ]
          },
          "metadata": {
            "tags": []
          }
        }
      ]
    },
    {
      "metadata": {
        "id": "gbFzOr8rk32C",
        "colab_type": "code",
        "colab": {
          "base_uri": "https://localhost:8080/",
          "height": 51
        },
        "outputId": "ad9a6c32-2b59-4f97-fed3-52aa3c831c9c"
      },
      "cell_type": "code",
      "source": [
        "import math\n",
        "print(np.mean(z_values))\n",
        "print(np.var(z_values))"
      ],
      "execution_count": 76,
      "outputs": [
        {
          "output_type": "stream",
          "text": [
            "138380.26969839673\n",
            "224702533.41235456\n"
          ],
          "name": "stdout"
        }
      ]
    },
    {
      "metadata": {
        "id": "D4jOaC_tk32D",
        "colab_type": "text"
      },
      "cell_type": "markdown",
      "source": [
        "#### 4.2.3 Maximizing Return (Utility) - gamma = 0.20"
      ]
    },
    {
      "metadata": {
        "id": "qTg4n2gOk32D",
        "colab_type": "code",
        "colab": {}
      },
      "cell_type": "code",
      "source": [
        "# Simulation\n",
        "import numpy as np\n",
        "import matplotlib.pyplot as plt\n",
        "simu=1000 # I am doing 1000 simulations\n",
        "T = 300 # 300 trading days\n",
        "m=6 # I have 5 assets\n",
        "B=100000 # Budget is $100000\n",
        "z_values = []\n",
        "for q in range(simu):\n",
        "    y = np.zeros((T+1,m))\n",
        "    y[0]=[res3.x.item(0),res3.x.item(1),res3.x.item(2),res3.x.item(3),res3.x.item(4),res3.x.item(5)]\n",
        "    for i in range(T):\n",
        "        rr=np.random.multivariate_normal(mu,Cov)\n",
        "        y[i+1]=y[i]*(1+rr)\n",
        "    z_values.append(sum(y[T])*B)\n",
        "\n",
        "plt.hist(z_values, density=True )\n",
        "plt.xlabel('Portfolio')\n",
        "plt.ylabel('Probability')\n",
        "plt.title('Histogram of Returns')\n",
        "plt.show()"
      ],
      "execution_count": 0,
      "outputs": []
    },
    {
      "metadata": {
        "id": "bjf2wIC7k32G",
        "colab_type": "code",
        "colab": {},
        "outputId": "cf5eb985-1c37-4b75-cf30-61145acdfd55"
      },
      "cell_type": "code",
      "source": [
        "import math\n",
        "print(np.mean(z_values))\n",
        "print(np.var(z_values))"
      ],
      "execution_count": 0,
      "outputs": [
        {
          "output_type": "stream",
          "text": [
            "142137.03443082268\n",
            "566985391.5576904\n"
          ],
          "name": "stdout"
        }
      ]
    },
    {
      "metadata": {
        "id": "vjHL8qwek32J",
        "colab_type": "text"
      },
      "cell_type": "markdown",
      "source": [
        "#### 4.3. Reporting Result\n",
        "\n",
        "||Minimizing Risk|Maximize Utility (gamma = 0.1)|Maximize Utility (gamma = 0.15)|Maximize Utility (gamma = 0.2)\n",
        "|-|-|-\n",
        "|Mean|a|b|c|d\n",
        "|Variance|a|b|c|d"
      ]
    },
    {
      "metadata": {
        "id": "MUQbVjhhk32J",
        "colab_type": "text"
      },
      "cell_type": "markdown",
      "source": [
        "### 5. Recommendations\n",
        "- a. Explain the different allocations, i.e., why they are different.\n",
        "- b. What should an investor with risk aversion $\\gamma$ = 0.1 do? What about investors with\n",
        "$\\gamma$ = 0.15 and $\\gamma$ = 0.2?\n",
        "- c. Why are the allocations different?"
      ]
    }
  ]
}